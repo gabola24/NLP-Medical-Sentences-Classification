{
  "nbformat": 4,
  "nbformat_minor": 0,
  "metadata": {
    "colab": {
      "name": "ProyectoU4_V1.ipynb",
      "version": "0.3.2",
      "provenance": []
    },
    "kernelspec": {
      "name": "python2",
      "display_name": "Python 2"
    }
  },
  "cells": [
    {
      "cell_type": "code",
      "metadata": {
        "id": "zhu_oVzAY3TF",
        "colab_type": "code",
        "outputId": "8552e9b4-ac5b-4851-a38c-ead5e4a988c0",
        "colab": {
          "base_uri": "https://localhost:8080/",
          "height": 34
        }
      },
      "source": [
        "import collections\n",
        "import numpy as np\n",
        "from keras.preprocessing.text import Tokenizer\n",
        "from keras.preprocessing.sequence import pad_sequences\n",
        "from keras.models import Model, Sequential\n",
        "from keras.layers import GRU, LSTM, Input, Dense, TimeDistributed, Embedding, Activation, RepeatVector, Bidirectional, Concatenate, Dot\n",
        "from keras.layers.embeddings import Embedding\n",
        "from keras.optimizers import Adam\n",
        "from keras.losses import sparse_categorical_crossentropy\n",
        "from keras.preprocessing.text import one_hot\n",
        "from keras.utils import np_utils\n",
        "\n",
        "from sklearn.preprocessing import label_binarize"
      ],
      "execution_count": 1,
      "outputs": [
        {
          "output_type": "stream",
          "text": [
            "Using TensorFlow backend.\n"
          ],
          "name": "stderr"
        }
      ]
    },
    {
      "cell_type": "code",
      "metadata": {
        "id": "Cqr6NMn4ZBHf",
        "colab_type": "code",
        "colab": {}
      },
      "source": [
        "import pandas as pd"
      ],
      "execution_count": 0,
      "outputs": []
    },
    {
      "cell_type": "code",
      "metadata": {
        "id": "Jy6P3eFKZBJy",
        "colab_type": "code",
        "colab": {}
      },
      "source": [
        "train = pd.read_csv('/content/DataSet/train.csv')\n",
        "test = pd.read_csv('/content/DataSet/test.csv')\n",
        "val = pd.read_csv('/content/DataSet/validation.csv')\n"
      ],
      "execution_count": 0,
      "outputs": []
    },
    {
      "cell_type": "code",
      "metadata": {
        "id": "g3cLlySNZBSL",
        "colab_type": "code",
        "colab": {}
      },
      "source": [
        "#train.head(5)"
      ],
      "execution_count": 0,
      "outputs": []
    },
    {
      "cell_type": "code",
      "metadata": {
        "id": "9b_VYDFZZBUO",
        "colab_type": "code",
        "outputId": "06f6e51f-268c-4afe-f842-738fc9fc0855",
        "colab": {
          "base_uri": "https://localhost:8080/",
          "height": 156
        }
      },
      "source": [
        "x_train = train['sentence'].as_matrix()\n",
        "y_train = train['relation'].as_matrix()\n",
        "\n",
        "x_test = test['sentence'].as_matrix()\n",
        "y_test = test['relation'].as_matrix()"
      ],
      "execution_count": 5,
      "outputs": [
        {
          "output_type": "stream",
          "text": [
            "/usr/local/lib/python2.7/dist-packages/ipykernel_launcher.py:1: FutureWarning: Method .as_matrix will be removed in a future version. Use .values instead.\n",
            "  \"\"\"Entry point for launching an IPython kernel.\n",
            "/usr/local/lib/python2.7/dist-packages/ipykernel_launcher.py:2: FutureWarning: Method .as_matrix will be removed in a future version. Use .values instead.\n",
            "  \n",
            "/usr/local/lib/python2.7/dist-packages/ipykernel_launcher.py:4: FutureWarning: Method .as_matrix will be removed in a future version. Use .values instead.\n",
            "  after removing the cwd from sys.path.\n",
            "/usr/local/lib/python2.7/dist-packages/ipykernel_launcher.py:5: FutureWarning: Method .as_matrix will be removed in a future version. Use .values instead.\n",
            "  \"\"\"\n"
          ],
          "name": "stderr"
        }
      ]
    },
    {
      "cell_type": "code",
      "metadata": {
        "id": "eIQWaBONaSwK",
        "colab_type": "code",
        "outputId": "c103837c-1136-4357-dec6-531c068df573",
        "colab": {
          "base_uri": "https://localhost:8080/",
          "height": 34
        }
      },
      "source": [
        "x_test.shape"
      ],
      "execution_count": 6,
      "outputs": [
        {
          "output_type": "execute_result",
          "data": {
            "text/plain": [
              "(4566,)"
            ]
          },
          "metadata": {
            "tags": []
          },
          "execution_count": 6
        }
      ]
    },
    {
      "cell_type": "code",
      "metadata": {
        "id": "ctIiwidVZBWz",
        "colab_type": "code",
        "colab": {}
      },
      "source": [
        "x_train2=[]\n",
        "y_train2=[]\n",
        "\n",
        "for i in range(13340):\n",
        "  if y_train[i] == 'causes':\n",
        "    x_train2.append(x_train[i])\n",
        "    y_train2.append(y_train[i])\n",
        "  elif y_train[i] == 'treats':\n",
        "    x_train2.append(x_train[i])\n",
        "    y_train2.append(y_train[i])  \n",
        "    \n",
        "x_test2=[]\n",
        "y_test2=[]\n",
        "\n",
        "for i in range(4566):\n",
        "  if y_test[i] == 'causes':\n",
        "    x_test2.append(x_test[i])\n",
        "    y_test2.append(y_test[i])\n",
        "  elif y_test[i] == 'treats':\n",
        "    x_test2.append(x_test[i])\n",
        "    y_test2.append(y_test[i]) "
      ],
      "execution_count": 0,
      "outputs": []
    },
    {
      "cell_type": "code",
      "metadata": {
        "id": "MQu_rxIzZBZo",
        "colab_type": "code",
        "outputId": "27496d00-b273-4849-d027-96f7239bee2f",
        "colab": {
          "base_uri": "https://localhost:8080/",
          "height": 34
        }
      },
      "source": [
        "x_train2 = np.asarray(x_train2)\n",
        "y_train2 = np.asarray(y_train2)\n",
        "x_train2.shape"
      ],
      "execution_count": 8,
      "outputs": [
        {
          "output_type": "execute_result",
          "data": {
            "text/plain": [
              "(12146,)"
            ]
          },
          "metadata": {
            "tags": []
          },
          "execution_count": 8
        }
      ]
    },
    {
      "cell_type": "code",
      "metadata": {
        "id": "w1wvrdMvZBb-",
        "colab_type": "code",
        "outputId": "0527e27d-72c1-4c26-abb1-eca640714a4b",
        "colab": {
          "base_uri": "https://localhost:8080/",
          "height": 34
        }
      },
      "source": [
        "x_test2 = np.asarray(x_test2)\n",
        "y_test2 = np.asarray(y_test2)\n",
        "x_test2.shape"
      ],
      "execution_count": 9,
      "outputs": [
        {
          "output_type": "execute_result",
          "data": {
            "text/plain": [
              "(4018,)"
            ]
          },
          "metadata": {
            "tags": []
          },
          "execution_count": 9
        }
      ]
    },
    {
      "cell_type": "code",
      "metadata": {
        "id": "Is30Y77pZBek",
        "colab_type": "code",
        "outputId": "4922a431-36c6-485f-9edd-f0b44ee3073e",
        "colab": {
          "base_uri": "https://localhost:8080/",
          "height": 104
        }
      },
      "source": [
        "import nltk\n",
        "from nltk.corpus import stopwords\n",
        "nltk.download('punkt')\n",
        "nltk.download('stopwords')"
      ],
      "execution_count": 10,
      "outputs": [
        {
          "output_type": "stream",
          "text": [
            "[nltk_data] Downloading package punkt to /root/nltk_data...\n",
            "[nltk_data]   Package punkt is already up-to-date!\n",
            "[nltk_data] Downloading package stopwords to /root/nltk_data...\n",
            "[nltk_data]   Package stopwords is already up-to-date!\n"
          ],
          "name": "stdout"
        },
        {
          "output_type": "execute_result",
          "data": {
            "text/plain": [
              "True"
            ]
          },
          "metadata": {
            "tags": []
          },
          "execution_count": 10
        }
      ]
    },
    {
      "cell_type": "code",
      "metadata": {
        "id": "1xvOcsDNZBhP",
        "colab_type": "code",
        "colab": {}
      },
      "source": [
        "aW=[]\n",
        "# Removing Stop Words\n",
        "import re \n",
        "processed_article = x_train2\n",
        "\n",
        "for j in range(x_train2.shape[0]):  \n",
        "    processed_article[j] = re.sub(\"'S\", ' ', processed_article[j])  \n",
        "    processed_article[j] = re.sub('[^a-zA-Z]', ' ', processed_article[j])    \n",
        "    processed_article[j] = re.sub(r'\\s+', ' ', processed_article[j])\n",
        "    # Preparing the dataset\n",
        "    all_sentences = nltk.sent_tokenize(processed_article[j])\n",
        "    all_words = [nltk.word_tokenize(sent) for sent in all_sentences]\n",
        "    for i in range(len(all_words)):\n",
        "      \n",
        "        all_words[i] = [w.lower() for w in all_words[i] if w not in stopwords.words('english')]\n",
        "        all_words[i] = [w for w in all_words[i] if w not in ['s','l','a','the','of','v','tu']]\n",
        "\n",
        "    aW.append(all_words[0])"
      ],
      "execution_count": 0,
      "outputs": []
    },
    {
      "cell_type": "code",
      "metadata": {
        "id": "Wx90g23Uc9MA",
        "colab_type": "code",
        "colab": {}
      },
      "source": [
        "aWt=[]\n",
        "# Removing Stop Words\n",
        "import re \n",
        "processed_article = x_test2\n",
        "\n",
        "for j in range(x_test2.shape[0]):  \n",
        "    processed_article[j] = re.sub(\"'S\", ' ', processed_article[j])  \n",
        "    processed_article[j] = re.sub('[^a-zA-Z]', ' ', processed_article[j])    \n",
        "    processed_article[j] = re.sub(r'\\s+', ' ', processed_article[j])\n",
        "    # Preparing the dataset\n",
        "    all_sentences = nltk.sent_tokenize(processed_article[j])\n",
        "    all_words = [nltk.word_tokenize(sent) for sent in all_sentences]\n",
        "    for i in range(len(all_words)):\n",
        "      \n",
        "        all_words[i] = [w.lower() for w in all_words[i] if w not in stopwords.words('english')]\n",
        "        all_words[i] = [w for w in all_words[i] if w not in ['s','l','a','the','of','v','tu']]\n",
        "\n",
        "    aWt.append(all_words[0])"
      ],
      "execution_count": 0,
      "outputs": []
    },
    {
      "cell_type": "code",
      "metadata": {
        "id": "vlDuR-R5ZBmT",
        "colab_type": "code",
        "colab": {}
      },
      "source": [
        "max_fatures = 7000\n",
        "tokenizer = Tokenizer(num_words=max_fatures, split=' ')\n",
        "tokenizer.fit_on_texts(aW)\n",
        "X = tokenizer.texts_to_sequences(aW)"
      ],
      "execution_count": 0,
      "outputs": []
    },
    {
      "cell_type": "code",
      "metadata": {
        "id": "T26wsRR0dI6_",
        "colab_type": "code",
        "colab": {}
      },
      "source": [
        "max_fatures = 7000\n",
        "tokenizer = Tokenizer(num_words=max_fatures, split=' ')\n",
        "tokenizer.fit_on_texts(aWt)\n",
        "Xt = tokenizer.texts_to_sequences(aWt)"
      ],
      "execution_count": 0,
      "outputs": []
    },
    {
      "cell_type": "code",
      "metadata": {
        "id": "cQ6vvXnYZBpW",
        "colab_type": "code",
        "outputId": "85f87e82-036c-45a9-a72e-5028729c08be",
        "colab": {
          "base_uri": "https://localhost:8080/",
          "height": 34
        }
      },
      "source": [
        "from keras.preprocessing.sequence import pad_sequences\n",
        "Xpad=pad_sequences(X,padding='post')\n",
        "voc=Xpad[0].size\n",
        "print('El tamaño maximo de la secuencia es '+ str(Xpad[0].size))"
      ],
      "execution_count": 15,
      "outputs": [
        {
          "output_type": "stream",
          "text": [
            "El tamaño maximo de la secuencia es 74\n"
          ],
          "name": "stdout"
        }
      ]
    },
    {
      "cell_type": "code",
      "metadata": {
        "id": "Tltb0lsIdRr0",
        "colab_type": "code",
        "outputId": "187b9916-e648-4195-de99-e7418b9e07c5",
        "colab": {
          "base_uri": "https://localhost:8080/",
          "height": 34
        }
      },
      "source": [
        "Xpadt=pad_sequences(Xt,padding='post')\n",
        "voct=Xpadt[0].size\n",
        "print('El tamaño maximo de la secuencia es '+ str(Xpadt[0].size))"
      ],
      "execution_count": 16,
      "outputs": [
        {
          "output_type": "stream",
          "text": [
            "El tamaño maximo de la secuencia es 66\n"
          ],
          "name": "stdout"
        }
      ]
    },
    {
      "cell_type": "code",
      "metadata": {
        "id": "NjeAaNV_ZBsK",
        "colab_type": "code",
        "colab": {}
      },
      "source": [
        "max=0\n",
        "pos = []\n",
        "newX = []\n",
        "for i in range (len(X)):\n",
        "  ant=len(X[i]) \n",
        "  if ant < 25:\n",
        "    pos.append(i)\n",
        "    newX.append(X[i])"
      ],
      "execution_count": 0,
      "outputs": []
    },
    {
      "cell_type": "code",
      "metadata": {
        "id": "eS_grw0Pdu92",
        "colab_type": "code",
        "outputId": "4354baba-d74e-4ee9-8da7-a2244d5181e5",
        "colab": {
          "base_uri": "https://localhost:8080/",
          "height": 34
        }
      },
      "source": [
        "len(pos)"
      ],
      "execution_count": 18,
      "outputs": [
        {
          "output_type": "execute_result",
          "data": {
            "text/plain": [
              "10129"
            ]
          },
          "metadata": {
            "tags": []
          },
          "execution_count": 18
        }
      ]
    },
    {
      "cell_type": "code",
      "metadata": {
        "id": "FJi69jl1ddP3",
        "colab_type": "code",
        "colab": {}
      },
      "source": [
        "max=0\n",
        "post = []\n",
        "newXt = []\n",
        "for i in range (len(Xt)):\n",
        "  ant=len(Xt[i]) \n",
        "  if ant < 25:\n",
        "    post.append(i)\n",
        "    newXt.append(Xt[i])"
      ],
      "execution_count": 0,
      "outputs": []
    },
    {
      "cell_type": "code",
      "metadata": {
        "id": "FhS2jyTYdqr3",
        "colab_type": "code",
        "outputId": "5c35196b-581d-4aad-e749-5af9e5415267",
        "colab": {
          "base_uri": "https://localhost:8080/",
          "height": 34
        }
      },
      "source": [
        "len(post)"
      ],
      "execution_count": 20,
      "outputs": [
        {
          "output_type": "execute_result",
          "data": {
            "text/plain": [
              "3410"
            ]
          },
          "metadata": {
            "tags": []
          },
          "execution_count": 20
        }
      ]
    },
    {
      "cell_type": "code",
      "metadata": {
        "id": "r9Q-cBw1ZBu7",
        "colab_type": "code",
        "colab": {}
      },
      "source": [
        "newXTrain = []\n",
        "newYTrain = []\n",
        "#x_train2 = pd.DataFrame(x_train2)\n",
        "#y_train2 = pd.DataFrame(y_train2)\n",
        "\n",
        "for j in range (10129):\n",
        "  \n",
        "  newXTrain.append(x_train2[pos[j]])\n",
        "  newYTrain.append(y_train2[pos[j]])"
      ],
      "execution_count": 0,
      "outputs": []
    },
    {
      "cell_type": "code",
      "metadata": {
        "id": "iUmym2InZBx2",
        "colab_type": "code",
        "colab": {}
      },
      "source": [
        "newXTest = []\n",
        "newYTest = []\n",
        "#x_train2 = pd.DataFrame(x_train2)\n",
        "#y_train2 = pd.DataFrame(y_train2)\n",
        "\n",
        "for j in range (3410):\n",
        "  \n",
        "  newXTest.append(x_test2[post[j]])\n",
        "  newYTest.append(y_test2[post[j]])"
      ],
      "execution_count": 0,
      "outputs": []
    },
    {
      "cell_type": "code",
      "metadata": {
        "id": "InN31phpZB0M",
        "colab_type": "code",
        "outputId": "444f9ba3-1157-4793-8aec-2e6a53a2f9bc",
        "colab": {
          "base_uri": "https://localhost:8080/",
          "height": 34
        }
      },
      "source": [
        "newXTrain = np.asarray(newXTrain)\n",
        "aW=[]\n",
        "# Removing Stop Words\n",
        "import re \n",
        "processed_article = newXTrain\n",
        "\n",
        "for j in range(newXTrain.shape[0]):  \n",
        "    processed_article[j] = re.sub(\"'S\", ' ', processed_article[j])  \n",
        "    processed_article[j] = re.sub('[^a-zA-Z]', ' ', processed_article[j])    \n",
        "    processed_article[j] = re.sub(r'\\s+', ' ', processed_article[j])\n",
        "    # Preparing the dataset\n",
        "    all_sentences = nltk.sent_tokenize(processed_article[j])\n",
        "    all_words = [nltk.word_tokenize(sent) for sent in all_sentences]\n",
        "    for i in range(len(all_words)):\n",
        "      \n",
        "        all_words[i] = [w.lower() for w in all_words[i] if w not in stopwords.words('english')]\n",
        "        all_words[i] = [w for w in all_words[i] if w not in ['s','l','a','the','of','v','tu']]\n",
        "\n",
        "    aW.append(all_words[0])\n",
        "    \n",
        "max_fatures = 7000\n",
        "tokenizer = Tokenizer(num_words=max_fatures, split=' ')\n",
        "tokenizer.fit_on_texts(aW)\n",
        "X = tokenizer.texts_to_sequences(aW)\n",
        "\n",
        "\n",
        "Xpad=pad_sequences(X,padding='post')\n",
        "voc=Xpad[0].size\n",
        "print('El tamaño maximo de la secuencia es '+ str(Xpad[0].size))"
      ],
      "execution_count": 23,
      "outputs": [
        {
          "output_type": "stream",
          "text": [
            "El tamaño maximo de la secuencia es 31\n"
          ],
          "name": "stdout"
        }
      ]
    },
    {
      "cell_type": "code",
      "metadata": {
        "id": "eNx8qVS5egy4",
        "colab_type": "code",
        "outputId": "22c1e023-0eab-49e0-d763-1b116bea7831",
        "colab": {
          "base_uri": "https://localhost:8080/",
          "height": 34
        }
      },
      "source": [
        "newXTest = np.asarray(newXTest)\n",
        "aW=[]\n",
        "# Removing Stop Words\n",
        "import re \n",
        "processed_article = newXTest\n",
        "\n",
        "for j in range(newXTest.shape[0]):  \n",
        "    processed_article[j] = re.sub(\"'S\", ' ', processed_article[j])  \n",
        "    processed_article[j] = re.sub('[^a-zA-Z]', ' ', processed_article[j])    \n",
        "    processed_article[j] = re.sub(r'\\s+', ' ', processed_article[j])\n",
        "    # Preparing the dataset\n",
        "    all_sentences = nltk.sent_tokenize(processed_article[j])\n",
        "    all_words = [nltk.word_tokenize(sent) for sent in all_sentences]\n",
        "    for i in range(len(all_words)):\n",
        "      \n",
        "        all_words[i] = [w.lower() for w in all_words[i] if w not in stopwords.words('english')]\n",
        "        all_words[i] = [w for w in all_words[i] if w not in ['s','l','a','the','of','v','tu']]\n",
        "\n",
        "    aW.append(all_words[0])\n",
        "    \n",
        "max_fatures = 7000\n",
        "tokenizer = Tokenizer(num_words=max_fatures, split=' ')\n",
        "tokenizer.fit_on_texts(aW)\n",
        "X2 = tokenizer.texts_to_sequences(aW)\n",
        "\n",
        "\n",
        "Xpad2=pad_sequences(X2,padding='post')\n",
        "voc2=Xpad2[0].size\n",
        "print('El tamaño maximo de la secuencia es '+ str(Xpad2[0].size))"
      ],
      "execution_count": 24,
      "outputs": [
        {
          "output_type": "stream",
          "text": [
            "El tamaño maximo de la secuencia es 24\n"
          ],
          "name": "stdout"
        }
      ]
    },
    {
      "cell_type": "code",
      "metadata": {
        "id": "PJsX4MOphRLd",
        "colab_type": "code",
        "colab": {}
      },
      "source": [
        "from keras.layers import Dense,LSTM,Dropout,GRU,SimpleRNN,Embedding\n",
        "from keras.models import Sequential\n",
        "from sklearn.model_selection import train_test_split"
      ],
      "execution_count": 0,
      "outputs": []
    },
    {
      "cell_type": "code",
      "metadata": {
        "id": "FUsn_tgbfogV",
        "colab_type": "code",
        "colab": {}
      },
      "source": [
        "newYTest = np.asarray(newYTest)\n",
        "newYTest = pd.DataFrame(newYTest)\n",
        "y_test = label_binarize(newYTest, classes=newYTest[0].unique())"
      ],
      "execution_count": 0,
      "outputs": []
    },
    {
      "cell_type": "code",
      "metadata": {
        "id": "mEWeLp9ThjPA",
        "colab_type": "code",
        "outputId": "413d10d8-b9d3-47f9-d8f7-2bef5ee1bc41",
        "colab": {
          "base_uri": "https://localhost:8080/",
          "height": 34
        }
      },
      "source": [
        "y_test.shape"
      ],
      "execution_count": 27,
      "outputs": [
        {
          "output_type": "execute_result",
          "data": {
            "text/plain": [
              "(3410, 1)"
            ]
          },
          "metadata": {
            "tags": []
          },
          "execution_count": 27
        }
      ]
    },
    {
      "cell_type": "code",
      "metadata": {
        "id": "7_Yg0WsVh2po",
        "colab_type": "code",
        "colab": {}
      },
      "source": [
        "newYTrain = np.asarray(newYTrain)\n",
        "newYTrain = pd.DataFrame(newYTrain)\n",
        "y_train = label_binarize(newYTrain, classes=newYTrain[0].unique())"
      ],
      "execution_count": 0,
      "outputs": []
    },
    {
      "cell_type": "code",
      "metadata": {
        "id": "KjzT5-F_iC2a",
        "colab_type": "code",
        "outputId": "aff7cc8f-7c27-47b2-8e92-2bd94edd8fdc",
        "colab": {
          "base_uri": "https://localhost:8080/",
          "height": 34
        }
      },
      "source": [
        "y_train.shape"
      ],
      "execution_count": 29,
      "outputs": [
        {
          "output_type": "execute_result",
          "data": {
            "text/plain": [
              "(10129, 1)"
            ]
          },
          "metadata": {
            "tags": []
          },
          "execution_count": 29
        }
      ]
    },
    {
      "cell_type": "code",
      "metadata": {
        "id": "1nghN_58iFcp",
        "colab_type": "code",
        "outputId": "6e9a4bad-597c-41f2-8cfa-d3d15c3fb42a",
        "colab": {
          "base_uri": "https://localhost:8080/",
          "height": 86
        }
      },
      "source": [
        "model =Sequential()\n",
        "model.add(Embedding(7000,32,input_length=voc,mask_zero=True))\n",
        "model.compile('adam','mse')\n",
        "out=model.predict(Xpad) # x train\n",
        "out.shape"
      ],
      "execution_count": 30,
      "outputs": [
        {
          "output_type": "stream",
          "text": [
            "WARNING:tensorflow:From /usr/local/lib/python2.7/dist-packages/tensorflow/python/framework/op_def_library.py:263: colocate_with (from tensorflow.python.framework.ops) is deprecated and will be removed in a future version.\n",
            "Instructions for updating:\n",
            "Colocations handled automatically by placer.\n"
          ],
          "name": "stdout"
        },
        {
          "output_type": "execute_result",
          "data": {
            "text/plain": [
              "(10129, 31, 32)"
            ]
          },
          "metadata": {
            "tags": []
          },
          "execution_count": 30
        }
      ]
    },
    {
      "cell_type": "code",
      "metadata": {
        "id": "_2l_gUabiLOG",
        "colab_type": "code",
        "outputId": "ad085a46-05a2-4943-ccb6-29f9743e65c2",
        "colab": {
          "base_uri": "https://localhost:8080/",
          "height": 34
        }
      },
      "source": [
        "model =Sequential()\n",
        "model.add(Embedding(7000,32,input_length=voc2,mask_zero=True))\n",
        "model.compile('adam','mse')\n",
        "out2=model.predict(Xpad2) # x test\n",
        "out2.shape"
      ],
      "execution_count": 31,
      "outputs": [
        {
          "output_type": "execute_result",
          "data": {
            "text/plain": [
              "(3410, 24, 32)"
            ]
          },
          "metadata": {
            "tags": []
          },
          "execution_count": 31
        }
      ]
    },
    {
      "cell_type": "code",
      "metadata": {
        "id": "KmuuYQobidDQ",
        "colab_type": "code",
        "colab": {}
      },
      "source": [
        "from keras.layers import Dropout"
      ],
      "execution_count": 0,
      "outputs": []
    },
    {
      "cell_type": "code",
      "metadata": {
        "id": "uN2ysP34ivSZ",
        "colab_type": "code",
        "outputId": "df6aee42-f28b-44ea-a4ee-700e580d6673",
        "colab": {
          "base_uri": "https://localhost:8080/",
          "height": 575
        }
      },
      "source": [
        "model1 =Sequential()\n",
        "model1.add(Embedding(7000,32,input_length=voc,mask_zero=True))\n",
        "model1.add(LSTM(units=64, input_shape=out.shape))\n",
        "model1.add(Dropout(0.2))\n",
        "model1.add(Dense(units=1))\n",
        "model1.compile('adam','mse',metrics=['acc'])\n",
        "h1=model1.fit(Xpad,y_train,epochs=12, batch_size=32,validation_split=0.1)"
      ],
      "execution_count": 33,
      "outputs": [
        {
          "output_type": "stream",
          "text": [
            "WARNING:tensorflow:From /usr/local/lib/python2.7/dist-packages/keras/backend/tensorflow_backend.py:3445: calling dropout (from tensorflow.python.ops.nn_ops) with keep_prob is deprecated and will be removed in a future version.\n",
            "Instructions for updating:\n",
            "Please use `rate` instead of `keep_prob`. Rate should be set to `rate = 1 - keep_prob`.\n",
            "WARNING:tensorflow:From /usr/local/lib/python2.7/dist-packages/tensorflow/python/ops/math_ops.py:3066: to_int32 (from tensorflow.python.ops.math_ops) is deprecated and will be removed in a future version.\n",
            "Instructions for updating:\n",
            "Use tf.cast instead.\n",
            "Train on 9116 samples, validate on 1013 samples\n",
            "Epoch 1/12\n",
            "9116/9116 [==============================] - 10s 1ms/step - loss: 0.0947 - acc: 0.8834 - val_loss: 0.1890 - val_acc: 0.7858\n",
            "Epoch 2/12\n",
            "9116/9116 [==============================] - 10s 1ms/step - loss: 0.0263 - acc: 0.9665 - val_loss: 0.2093 - val_acc: 0.7167\n",
            "Epoch 3/12\n",
            "9116/9116 [==============================] - 10s 1ms/step - loss: 0.0255 - acc: 0.9640 - val_loss: 0.1885 - val_acc: 0.7443\n",
            "Epoch 4/12\n",
            "9116/9116 [==============================] - 10s 1ms/step - loss: 0.0236 - acc: 0.9670 - val_loss: 0.2086 - val_acc: 0.6890\n",
            "Epoch 5/12\n",
            "9116/9116 [==============================] - 10s 1ms/step - loss: 0.0230 - acc: 0.9654 - val_loss: 0.2111 - val_acc: 0.7098\n",
            "Epoch 6/12\n",
            "9116/9116 [==============================] - 10s 1ms/step - loss: 0.0219 - acc: 0.9671 - val_loss: 0.2100 - val_acc: 0.7098\n",
            "Epoch 7/12\n",
            "9116/9116 [==============================] - 10s 1ms/step - loss: 0.0219 - acc: 0.9656 - val_loss: 0.2034 - val_acc: 0.7167\n",
            "Epoch 8/12\n",
            "9116/9116 [==============================] - 10s 1ms/step - loss: 0.0215 - acc: 0.9656 - val_loss: 0.2028 - val_acc: 0.7305\n",
            "Epoch 9/12\n",
            "9116/9116 [==============================] - 10s 1ms/step - loss: 0.0210 - acc: 0.9657 - val_loss: 0.1922 - val_acc: 0.7443\n",
            "Epoch 10/12\n",
            "9116/9116 [==============================] - 10s 1ms/step - loss: 0.0209 - acc: 0.9651 - val_loss: 0.1973 - val_acc: 0.7443\n",
            "Epoch 11/12\n",
            "9116/9116 [==============================] - 10s 1ms/step - loss: 0.0208 - acc: 0.9656 - val_loss: 0.2064 - val_acc: 0.7167\n",
            "Epoch 12/12\n",
            "9116/9116 [==============================] - 10s 1ms/step - loss: 0.0205 - acc: 0.9645 - val_loss: 0.1920 - val_acc: 0.7512\n"
          ],
          "name": "stdout"
        }
      ]
    },
    {
      "cell_type": "code",
      "metadata": {
        "id": "bQ4LBKgVjBlO",
        "colab_type": "code",
        "outputId": "0e39c176-77b5-4273-c85d-faa6d2621cf9",
        "colab": {
          "base_uri": "https://localhost:8080/",
          "height": 409
        }
      },
      "source": [
        "import matplotlib.pyplot as plt\n",
        "\n",
        "plt.figure(figsize=(12,6))\n",
        "plt.subplot(1,2,1)\n",
        "plt.plot(h1.history['acc'],label='Train',linewidth=3)\n",
        "plt.plot(h1.history['val_acc'],label='Test',linewidth=3)\n",
        "plt.legend()\n",
        "plt.xlabel('Epochs')\n",
        "plt.ylabel('Accuracy')\n",
        "plt.subplot(1,2,2)\n",
        "plt.plot(h1.history['loss'],label='Train',linewidth=3)\n",
        "plt.plot(h1.history['val_loss'],label='Test',linewidth=3)\n",
        "plt.legend()\n",
        "plt.xlabel('Epochs')\n",
        "plt.ylabel('Loss')"
      ],
      "execution_count": 34,
      "outputs": [
        {
          "output_type": "execute_result",
          "data": {
            "text/plain": [
              "Text(0,0.5,'Loss')"
            ]
          },
          "metadata": {
            "tags": []
          },
          "execution_count": 34
        },
        {
          "output_type": "display_data",
          "data": {
            "image/png": "[encoded data removed]",
            "text/plain": [
              "<Figure size 864x432 with 2 Axes>"
            ]
          },
          "metadata": {
            "tags": []
          }
        }
      ]
    },
    {
      "cell_type": "code",
      "metadata": {
        "id": "tIGW1okqjjnR",
        "colab_type": "code",
        "colab": {}
      },
      "source": [
        ""
      ],
      "execution_count": 0,
      "outputs": []
    }
  ]
}