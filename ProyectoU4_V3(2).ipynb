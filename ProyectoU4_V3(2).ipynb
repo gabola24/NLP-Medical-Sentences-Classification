{
  "nbformat": 4,
  "nbformat_minor": 0,
  "metadata": {
    "colab": {
      "name": "ProyectoU4_V3.ipynb",
      "version": "0.3.2",
      "provenance": []
    },
    "kernelspec": {
      "name": "python2",
      "display_name": "Python 2"
    }
  },
  "cells": [
    {
      "cell_type": "code",
      "metadata": {
        "id": "zhu_oVzAY3TF",
        "colab_type": "code",
        "colab": {
          "base_uri": "https://localhost:8080/",
          "height": 34
        },
        "outputId": "201b3253-05d4-4bc3-cb20-51cc63ecc08d"
      },
      "source": [
        "import collections\n",
        "import pandas as pd\n",
        "import numpy as np\n",
        "import matplotlib.pyplot as plt\n",
        "from keras.preprocessing.text import Tokenizer\n",
        "from keras.preprocessing.sequence import pad_sequences\n",
        "from keras.models import Model, Sequential\n",
        "from keras.layers import GRU, LSTM, Input, Dense, TimeDistributed, Embedding, Activation, RepeatVector, Bidirectional, Concatenate, Dot\n",
        "from keras.layers.embeddings import Embedding\n",
        "from keras.optimizers import Adam\n",
        "from keras.losses import sparse_categorical_crossentropy\n",
        "from keras.preprocessing.text import one_hot\n",
        "from keras.utils import np_utils\n",
        "from sklearn.preprocessing import label_binarize"
      ],
      "execution_count": 1,
      "outputs": [
        {
          "output_type": "stream",
          "text": [
            "Using TensorFlow backend.\n"
          ],
          "name": "stderr"
        }
      ]
    },
    {
      "cell_type": "code",
      "metadata": {
        "id": "Jy6P3eFKZBJy",
        "colab_type": "code",
        "outputId": "a0470323-8029-405c-8b17-bd5af39adae7",
        "colab": {
          "base_uri": "https://localhost:8080/",
          "height": 541
        }
      },
      "source": [
        "!wget https://www.dropbox.com/s/j8v4lzef5kzr0se/DataSet.zip?dl=0\n",
        "!unzip DataSet.zip?dl=0"
      ],
      "execution_count": 2,
      "outputs": [
        {
          "output_type": "stream",
          "text": [
            "--2019-06-03 23:23:41--  https://www.dropbox.com/s/j8v4lzef5kzr0se/DataSet.zip?dl=0\n",
            "Resolving www.dropbox.com (www.dropbox.com)... 162.125.1.1, 2620:100:6016:1::a27d:101\n",
            "Connecting to www.dropbox.com (www.dropbox.com)|162.125.1.1|:443... connected.\n",
            "HTTP request sent, awaiting response... 301 Moved Permanently\n",
            "Location: /s/raw/j8v4lzef5kzr0se/DataSet.zip [following]\n",
            "--2019-06-03 23:23:41--  https://www.dropbox.com/s/raw/j8v4lzef5kzr0se/DataSet.zip\n",
            "Reusing existing connection to www.dropbox.com:443.\n",
            "HTTP request sent, awaiting response... 302 Found\n",
            "Location: https://uc6d88a085d28f18e039ba6d855b.dl.dropboxusercontent.com/cd/0/inline/AiI7lPPxTvdkaeFi2eQU0BF6dSlWFyIsK0N-tm6DahL7JJ_H_lObvCzw6-_F02W1ABDqkpV4UwnlrpEs54QVdk4LFPh3ucOf-SDm6pcdPx5bSA/file# [following]\n",
            "--2019-06-03 23:23:41--  https://uc6d88a085d28f18e039ba6d855b.dl.dropboxusercontent.com/cd/0/inline/AiI7lPPxTvdkaeFi2eQU0BF6dSlWFyIsK0N-tm6DahL7JJ_H_lObvCzw6-_F02W1ABDqkpV4UwnlrpEs54QVdk4LFPh3ucOf-SDm6pcdPx5bSA/file\n",
            "Resolving uc6d88a085d28f18e039ba6d855b.dl.dropboxusercontent.com (uc6d88a085d28f18e039ba6d855b.dl.dropboxusercontent.com)... 162.125.1.6, 2620:100:6016:6::a27d:106\n",
            "Connecting to uc6d88a085d28f18e039ba6d855b.dl.dropboxusercontent.com (uc6d88a085d28f18e039ba6d855b.dl.dropboxusercontent.com)|162.125.1.6|:443... connected.\n",
            "HTTP request sent, awaiting response... 302 FOUND\n",
            "Location: /cd/0/inline2/AiJiJ61goCOR5iEqZN74cV027_OgOVNuOmAg2WY7Z3ET6rsR2G-WjDaCZMvLAG2rAo8V6-gx8fBWFlwjcQzgkSi5-W_1k855Z_4D199dBlrpGrUEMae5SLaRtf-DDDVbyt11FJ6nRiQQkTOjq6CmWkUL-eqE-74lHZP1Zylqp3XWz1SolQaBCagFvzKITN2FR8VtVq7dfL3P3b2EA0DfUTV4yWjzR6V853LT0L7v7ryD6VCfhAS805T-wV3QJVl7_Uq67OcpihM1Xd__zGQxKrWzsh_5c7xd7RzHRIxCcVls-JwC2XbD37oU_JwEy-k2X0G7OVbE_J673Qd1I9dwW6yO/file [following]\n",
            "--2019-06-03 23:23:42--  https://uc6d88a085d28f18e039ba6d855b.dl.dropboxusercontent.com/cd/0/inline2/AiJiJ61goCOR5iEqZN74cV027_OgOVNuOmAg2WY7Z3ET6rsR2G-WjDaCZMvLAG2rAo8V6-gx8fBWFlwjcQzgkSi5-W_1k855Z_4D199dBlrpGrUEMae5SLaRtf-DDDVbyt11FJ6nRiQQkTOjq6CmWkUL-eqE-74lHZP1Zylqp3XWz1SolQaBCagFvzKITN2FR8VtVq7dfL3P3b2EA0DfUTV4yWjzR6V853LT0L7v7ryD6VCfhAS805T-wV3QJVl7_Uq67OcpihM1Xd__zGQxKrWzsh_5c7xd7RzHRIxCcVls-JwC2XbD37oU_JwEy-k2X0G7OVbE_J673Qd1I9dwW6yO/file\n",
            "Reusing existing connection to uc6d88a085d28f18e039ba6d855b.dl.dropboxusercontent.com:443.\n",
            "HTTP request sent, awaiting response... 200 OK\n",
            "Length: 1103100 (1.1M) [application/zip]\n",
            "Saving to: ‘DataSet.zip?dl=0.1’\n",
            "\n",
            "DataSet.zip?dl=0.1  100%[===================>]   1.05M  --.-KB/s    in 0.05s   \n",
            "\n",
            "2019-06-03 23:23:42 (22.9 MB/s) - ‘DataSet.zip?dl=0.1’ saved [1103100/1103100]\n",
            "\n",
            "Archive:  DataSet.zip?dl=0\n",
            "replace DataSet/test.csv? [y]es, [n]o, [A]ll, [N]one, [r]ename: A\n",
            "  inflating: DataSet/test.csv        \n",
            "  inflating: DataSet/train.csv       \n",
            "  inflating: DataSet/validation.csv  \n"
          ],
          "name": "stdout"
        }
      ]
    },
    {
      "cell_type": "code",
      "metadata": {
        "id": "mtYnqzjeZBO4",
        "colab_type": "code",
        "colab": {}
      },
      "source": [
        "#Datos desde DRIVE\n",
        "train = pd.read_csv('/content/DataSet/train.csv')\n",
        "test = pd.read_csv('/content/DataSet/test.csv')"
      ],
      "execution_count": 0,
      "outputs": []
    },
    {
      "cell_type": "code",
      "metadata": {
        "id": "9b_VYDFZZBUO",
        "colab_type": "code",
        "outputId": "3f00bf5b-3c89-4291-ba6a-a4b1b58ea82e",
        "colab": {
          "base_uri": "https://localhost:8080/",
          "height": 156
        }
      },
      "source": [
        "x_train = train['sentence'].as_matrix()\n",
        "y_train = train['relation'].as_matrix()\n",
        "\n",
        "x_test = test['sentence'].as_matrix()\n",
        "y_test = test['relation'].as_matrix()"
      ],
      "execution_count": 9,
      "outputs": [
        {
          "output_type": "stream",
          "text": [
            "/usr/local/lib/python2.7/dist-packages/ipykernel_launcher.py:1: FutureWarning: Method .as_matrix will be removed in a future version. Use .values instead.\n",
            "  \"\"\"Entry point for launching an IPython kernel.\n",
            "/usr/local/lib/python2.7/dist-packages/ipykernel_launcher.py:2: FutureWarning: Method .as_matrix will be removed in a future version. Use .values instead.\n",
            "  \n",
            "/usr/local/lib/python2.7/dist-packages/ipykernel_launcher.py:4: FutureWarning: Method .as_matrix will be removed in a future version. Use .values instead.\n",
            "  after removing the cwd from sys.path.\n",
            "/usr/local/lib/python2.7/dist-packages/ipykernel_launcher.py:5: FutureWarning: Method .as_matrix will be removed in a future version. Use .values instead.\n",
            "  \"\"\"\n"
          ],
          "name": "stderr"
        }
      ]
    },
    {
      "cell_type": "code",
      "metadata": {
        "id": "UUsYzlP1mZyU",
        "colab_type": "code",
        "colab": {}
      },
      "source": [
        "x_train2c=[]\n",
        "x_train2t=[]\n",
        "#y_train2=[]\n",
        "\n",
        "for i in range(13340):\n",
        "  if y_train[i] == 'causes':\n",
        "    x_train2c.append(x_train[i])\n",
        "    #y_train2.append(0)\n",
        "  elif y_train[i] == 'treats':\n",
        "    x_train2t.append(x_train[i])\n",
        "    #y_train2.append(1)  \n",
        "    \n",
        "x_test2c=[]\n",
        "x_test2t=[]\n",
        "\n",
        "for i in range(4566):\n",
        "  if y_test[i] == 'causes':\n",
        "    x_test2c.append(x_test[i])\n",
        "    #y_test2.append(y_test[i])\n",
        "  elif y_test[i] == 'treats':\n",
        "    x_test2t.append(x_test[i])\n",
        "    #y_test2.append(y_test[i]) "
      ],
      "execution_count": 0,
      "outputs": []
    },
    {
      "cell_type": "code",
      "metadata": {
        "id": "ej70KhHWqXux",
        "colab_type": "code",
        "colab": {}
      },
      "source": [
        "causesTrain=pd.Series(x_train2c).unique()\n",
        "treatsTrain=pd.Series(x_train2t).unique()\n",
        "causesTest=pd.Series(x_test2c).unique()\n",
        "treatsTest=pd.Series(x_test2t).unique()\n"
      ],
      "execution_count": 0,
      "outputs": []
    },
    {
      "cell_type": "code",
      "metadata": {
        "id": "fiPAc7q3rCwX",
        "colab_type": "code",
        "colab": {}
      },
      "source": [
        "X_train=[]\n",
        "X_test=[]\n",
        "y_train=[]\n",
        "y_test=[]\n",
        "for i in causesTrain:\n",
        "  X_train.append(i)\n",
        "  y_train.append(0)\n",
        "for i in treatsTrain:\n",
        "  X_train.append(i)\n",
        "  y_train.append(1)\n",
        "for i in causesTest:\n",
        "  X_test.append(i)\n",
        "  y_test.append(0)\n",
        "for i in treatsTest:\n",
        "  X_test.append(i)\n",
        "  y_test.append(1)\n",
        "  \n",
        "  "
      ],
      "execution_count": 0,
      "outputs": []
    },
    {
      "cell_type": "code",
      "metadata": {
        "id": "vSpdIMTgsyqT",
        "colab_type": "code",
        "colab": {}
      },
      "source": [
        "df=pd.DataFrame()\n",
        "df['Frase']=X_train\n",
        "df['Label']=y_train"
      ],
      "execution_count": 0,
      "outputs": []
    },
    {
      "cell_type": "code",
      "metadata": {
        "id": "biczMTYnx2Ys",
        "colab_type": "code",
        "colab": {}
      },
      "source": [
        "dftest=pd.DataFrame()\n",
        "dftest['Frase']=X_test\n",
        "dftest['Label']=y_test"
      ],
      "execution_count": 0,
      "outputs": []
    },
    {
      "cell_type": "code",
      "metadata": {
        "id": "VU4pXZKAupQQ",
        "colab_type": "code",
        "outputId": "e808581d-5a75-4478-c91b-3b48a4d424fd",
        "colab": {
          "base_uri": "https://localhost:8080/",
          "height": 281
        }
      },
      "source": [
        "plt.bar(['causes','treats'],df['Label'].value_counts())\n",
        "plt.title('Distribucion de clases en train');"
      ],
      "execution_count": 15,
      "outputs": [
        {
          "output_type": "display_data",
          "data": {
            "image/png": "[encoded data removed]",
            "text/plain": [
              "<Figure size 432x288 with 1 Axes>"
            ]
          },
          "metadata": {
            "tags": []
          }
        }
      ]
    },
    {
      "cell_type": "code",
      "metadata": {
        "id": "Sbdv65P9yHpr",
        "colab_type": "code",
        "outputId": "e13c9d89-67a2-4962-c2d2-559097ca7194",
        "colab": {
          "base_uri": "https://localhost:8080/",
          "height": 281
        }
      },
      "source": [
        "plt.bar(['causes','treats'],dftest['Label'].value_counts())\n",
        "plt.title('Distribucion de clases en test');"
      ],
      "execution_count": 16,
      "outputs": [
        {
          "output_type": "display_data",
          "data": {
            "image/png": "[encoded data removed]",
            "text/plain": [
              "<Figure size 432x288 with 1 Axes>"
            ]
          },
          "metadata": {
            "tags": []
          }
        }
      ]
    },
    {
      "cell_type": "markdown",
      "metadata": {
        "id": "vpr2LgDhviZ4",
        "colab_type": "text"
      },
      "source": [
        "* Existe desbalance de clase, lo tendremos en cuenta en los parametros del modelo.\n",
        "\n",
        "* El set de datos estaba particionado completamente, aplicamos un muestreo para 'desordenar' el dataframe."
      ]
    },
    {
      "cell_type": "code",
      "metadata": {
        "id": "tkWyB7Q7v6Aj",
        "colab_type": "code",
        "outputId": "2014e5ce-b28f-44e2-cce5-d6a806601a77",
        "colab": {
          "base_uri": "https://localhost:8080/",
          "height": 206
        }
      },
      "source": [
        "dftest=dftest.sample(frac=1).reset_index(drop=True)\n",
        "df=df.sample(frac=1).reset_index(drop=True)\n",
        "df.head()"
      ],
      "execution_count": 17,
      "outputs": [
        {
          "output_type": "execute_result",
          "data": {
            "text/html": [
              "<div>\n",
              "<style scoped>\n",
              "    .dataframe tbody tr th:only-of-type {\n",
              "        vertical-align: middle;\n",
              "    }\n",
              "\n",
              "    .dataframe tbody tr th {\n",
              "        vertical-align: top;\n",
              "    }\n",
              "\n",
              "    .dataframe thead th {\n",
              "        text-align: right;\n",
              "    }\n",
              "</style>\n",
              "<table border=\"1\" class=\"dataframe\">\n",
              "  <thead>\n",
              "    <tr style=\"text-align: right;\">\n",
              "      <th></th>\n",
              "      <th>Frase</th>\n",
              "      <th>Label</th>\n",
              "    </tr>\n",
              "  </thead>\n",
              "  <tbody>\n",
              "    <tr>\n",
              "      <th>0</th>\n",
              "      <td>• Hypoglycemia and respiratory depression were...</td>\n",
              "      <td>1</td>\n",
              "    </tr>\n",
              "    <tr>\n",
              "      <th>1</th>\n",
              "      <td>Symptoms of UNSTABLE ANGINA or infarction, isc...</td>\n",
              "      <td>0</td>\n",
              "    </tr>\n",
              "    <tr>\n",
              "      <th>2</th>\n",
              "      <td>• FIBROMYALGIA characterized by widespread PAI...</td>\n",
              "      <td>0</td>\n",
              "    </tr>\n",
              "    <tr>\n",
              "      <th>3</th>\n",
              "      <td>Other medications which may be effective inclu...</td>\n",
              "      <td>1</td>\n",
              "    </tr>\n",
              "    <tr>\n",
              "      <th>4</th>\n",
              "      <td>By contrast, CHRONIC GRANULOCYTIC LEUKEMIA CEL...</td>\n",
              "      <td>0</td>\n",
              "    </tr>\n",
              "  </tbody>\n",
              "</table>\n",
              "</div>"
            ],
            "text/plain": [
              "                                               Frase  Label\n",
              "0  • Hypoglycemia and respiratory depression were...      1\n",
              "1  Symptoms of UNSTABLE ANGINA or infarction, isc...      0\n",
              "2  • FIBROMYALGIA characterized by widespread PAI...      0\n",
              "3  Other medications which may be effective inclu...      1\n",
              "4  By contrast, CHRONIC GRANULOCYTIC LEUKEMIA CEL...      0"
            ]
          },
          "metadata": {
            "tags": []
          },
          "execution_count": 17
        }
      ]
    },
    {
      "cell_type": "code",
      "metadata": {
        "id": "Is30Y77pZBek",
        "colab_type": "code",
        "outputId": "aaeec11e-244e-4012-c4e6-d9772ce98c68",
        "colab": {
          "base_uri": "https://localhost:8080/",
          "height": 104
        }
      },
      "source": [
        "import nltk\n",
        "from nltk.corpus import stopwords\n",
        "nltk.download('punkt')\n",
        "nltk.download('stopwords')"
      ],
      "execution_count": 18,
      "outputs": [
        {
          "output_type": "stream",
          "text": [
            "[nltk_data] Downloading package punkt to /root/nltk_data...\n",
            "[nltk_data]   Package punkt is already up-to-date!\n",
            "[nltk_data] Downloading package stopwords to /root/nltk_data...\n",
            "[nltk_data]   Package stopwords is already up-to-date!\n"
          ],
          "name": "stdout"
        },
        {
          "output_type": "execute_result",
          "data": {
            "text/plain": [
              "True"
            ]
          },
          "metadata": {
            "tags": []
          },
          "execution_count": 18
        }
      ]
    },
    {
      "cell_type": "code",
      "metadata": {
        "id": "1xvOcsDNZBhP",
        "colab_type": "code",
        "colab": {}
      },
      "source": [
        "aW=[]\n",
        "# Removing Stop Words\n",
        "import re \n",
        "processed_article = df['Frase'].values\n",
        "\n",
        "for j in range(df['Frase'].values.shape[0]):  \n",
        "    processed_article[j] = re.sub(\"'S\", ' ', processed_article[j])  \n",
        "    processed_article[j] = re.sub('[^a-zA-Z]', ' ', processed_article[j])    \n",
        "    processed_article[j] = re.sub(r'\\s+', ' ', processed_article[j])\n",
        "    # Preparing the dataset\n",
        "    all_sentences = nltk.sent_tokenize(processed_article[j])\n",
        "    all_words = [nltk.word_tokenize(sent) for sent in all_sentences]\n",
        "    for i in range(len(all_words)):\n",
        "      \n",
        "        all_words[i] = [w.lower() for w in all_words[i] if w not in stopwords.words('english')]\n",
        "        all_words[i] = [w for w in all_words[i] if w not in ['s','l','a','the','of','v','tu','t','b','c','g','e','p','m','d','j','i']]\n",
        "\n",
        "    aW.append(all_words[0])"
      ],
      "execution_count": 0,
      "outputs": []
    },
    {
      "cell_type": "code",
      "metadata": {
        "id": "Wx90g23Uc9MA",
        "colab_type": "code",
        "colab": {}
      },
      "source": [
        "aWt=[]\n",
        "# Removing Stop Words\n",
        "import re \n",
        "processed_article = dftest['Frase'].values\n",
        "\n",
        "for j in range(dftest['Frase'].values.shape[0]):  \n",
        "    processed_article[j] = re.sub(\"'S\", ' ', processed_article[j])  \n",
        "    processed_article[j] = re.sub('[^a-zA-Z]', ' ', processed_article[j])    \n",
        "    processed_article[j] = re.sub(r'\\s+', ' ', processed_article[j])\n",
        "    # Preparing the dataset\n",
        "    all_sentences = nltk.sent_tokenize(processed_article[j])\n",
        "    all_words = [nltk.word_tokenize(sent) for sent in all_sentences]\n",
        "    for i in range(len(all_words)):\n",
        "      \n",
        "        all_words[i] = [w.lower() for w in all_words[i] if w not in stopwords.words('english')]\n",
        "        all_words[i] = [w for w in all_words[i] if w not in ['s','l','a','the','of','v','tu','t','b','c','g','e','p','m','d','j','i']]\n",
        "\n",
        "    aWt.append(all_words[0])"
      ],
      "execution_count": 0,
      "outputs": []
    },
    {
      "cell_type": "markdown",
      "metadata": {
        "id": "SBC1kaq7qppM",
        "colab_type": "text"
      },
      "source": [
        "## En este notebook usaremos un tokenizador con 1000 palabras\n",
        "* Como son menos palabras el padding se hace con 10 "
      ]
    },
    {
      "cell_type": "code",
      "metadata": {
        "id": "vlDuR-R5ZBmT",
        "colab_type": "code",
        "colab": {}
      },
      "source": [
        "max_fatures = 1000\n",
        "tokenizer = Tokenizer(num_words=max_fatures, split=' ')\n",
        "tokenizer.fit_on_texts(aW)\n",
        "X = tokenizer.texts_to_sequences(aW)\n",
        "Xt = tokenizer.texts_to_sequences(aWt)"
      ],
      "execution_count": 0,
      "outputs": []
    },
    {
      "cell_type": "code",
      "metadata": {
        "id": "cQ6vvXnYZBpW",
        "colab_type": "code",
        "outputId": "8b80471d-aefc-4c64-e88a-3699460c20f8",
        "colab": {
          "base_uri": "https://localhost:8080/",
          "height": 34
        }
      },
      "source": [
        "from keras.preprocessing.sequence import pad_sequences\n",
        "Xpad=pad_sequences(X,padding='post',maxlen=10)\n",
        "voc=Xpad[0].size\n",
        "print('El tamaño maximo de la secuencia es '+ str(Xpad[0].size))"
      ],
      "execution_count": 23,
      "outputs": [
        {
          "output_type": "stream",
          "text": [
            "El tamaño maximo de la secuencia es 10\n"
          ],
          "name": "stdout"
        }
      ]
    },
    {
      "cell_type": "code",
      "metadata": {
        "id": "Tltb0lsIdRr0",
        "colab_type": "code",
        "outputId": "f4ce0aab-d31c-45a5-c895-4e07b26235b5",
        "colab": {
          "base_uri": "https://localhost:8080/",
          "height": 34
        }
      },
      "source": [
        "Xpadt=pad_sequences(Xt,padding='post',maxlen=10)\n",
        "voct=Xpadt[0].size\n",
        "print('El tamaño maximo de la secuencia es '+ str(Xpadt[0].size))"
      ],
      "execution_count": 24,
      "outputs": [
        {
          "output_type": "stream",
          "text": [
            "El tamaño maximo de la secuencia es 10\n"
          ],
          "name": "stdout"
        }
      ]
    },
    {
      "cell_type": "code",
      "metadata": {
        "id": "0ZwiGc3h3KPr",
        "colab_type": "code",
        "outputId": "2aecd15e-b7e8-4e31-fdbc-5b6437cb9711",
        "colab": {
          "base_uri": "https://localhost:8080/",
          "height": 34
        }
      },
      "source": [
        "Xpad[1000]"
      ],
      "execution_count": 25,
      "outputs": [
        {
          "output_type": "execute_result",
          "data": {
            "text/plain": [
              "array([165, 534, 777, 465,  47,   0,   0,   0,   0,   0], dtype=int32)"
            ]
          },
          "metadata": {
            "tags": []
          },
          "execution_count": 25
        }
      ]
    },
    {
      "cell_type": "code",
      "metadata": {
        "id": "PJsX4MOphRLd",
        "colab_type": "code",
        "colab": {}
      },
      "source": [
        "from keras.layers import Dense,LSTM,Dropout,GRU,SimpleRNN,Embedding,Dropout\n",
        "from keras.models import Sequential"
      ],
      "execution_count": 0,
      "outputs": []
    },
    {
      "cell_type": "code",
      "metadata": {
        "id": "1nghN_58iFcp",
        "colab_type": "code",
        "outputId": "7684e27c-b0f5-49a3-f4dd-57c83f145ff1",
        "colab": {
          "base_uri": "https://localhost:8080/",
          "height": 86
        }
      },
      "source": [
        "model =Sequential()\n",
        "model.add(Embedding(1000,128,input_length=voc,mask_zero=True))\n",
        "model.compile('adam','mse')\n",
        "out=model.predict(Xpad) # x train\n",
        "out.shape"
      ],
      "execution_count": 27,
      "outputs": [
        {
          "output_type": "stream",
          "text": [
            "WARNING:tensorflow:From /usr/local/lib/python2.7/dist-packages/tensorflow/python/framework/op_def_library.py:263: colocate_with (from tensorflow.python.framework.ops) is deprecated and will be removed in a future version.\n",
            "Instructions for updating:\n",
            "Colocations handled automatically by placer.\n"
          ],
          "name": "stdout"
        },
        {
          "output_type": "execute_result",
          "data": {
            "text/plain": [
              "(1558, 10, 128)"
            ]
          },
          "metadata": {
            "tags": []
          },
          "execution_count": 27
        }
      ]
    },
    {
      "cell_type": "code",
      "metadata": {
        "id": "IGuBLIVxEDQt",
        "colab_type": "code",
        "outputId": "dc8656cd-7edf-4d43-eead-6b02100f54a4",
        "colab": {
          "base_uri": "https://localhost:8080/",
          "height": 1027
        }
      },
      "source": [
        "opt = Adam(lr=0.0001, decay=1e-5)\n",
        "model1 =Sequential()\n",
        "model1.add(Embedding(1000,128,input_length=voc,mask_zero=True))\n",
        "model1.add(LSTM(units=196, input_shape=out.shape,recurrent_dropout=0.2))\n",
        "model1.add(Dropout(0.2))\n",
        "model1.add(Dense(units=1,activation='relu'))\n",
        "model1.compile(optimizer=opt,loss='mse',metrics=['acc'])\n",
        "h1=model1.fit(Xpad,df['Label'].values,epochs=25, batch_size=32,validation_data=(Xpadt,dftest['Label'].values),class_weight={0:0.75, 1:1.0})"
      ],
      "execution_count": 28,
      "outputs": [
        {
          "output_type": "stream",
          "text": [
            "WARNING:tensorflow:From /usr/local/lib/python2.7/dist-packages/keras/backend/tensorflow_backend.py:3445: calling dropout (from tensorflow.python.ops.nn_ops) with keep_prob is deprecated and will be removed in a future version.\n",
            "Instructions for updating:\n",
            "Please use `rate` instead of `keep_prob`. Rate should be set to `rate = 1 - keep_prob`.\n",
            "WARNING:tensorflow:From /usr/local/lib/python2.7/dist-packages/tensorflow/python/ops/math_ops.py:3066: to_int32 (from tensorflow.python.ops.math_ops) is deprecated and will be removed in a future version.\n",
            "Instructions for updating:\n",
            "Use tf.cast instead.\n",
            "Train on 1558 samples, validate on 533 samples\n",
            "Epoch 1/25\n",
            "1558/1558 [==============================] - 4s 2ms/step - loss: 0.3845 - acc: 0.5700 - val_loss: 0.3308 - val_acc: 0.5572\n",
            "Epoch 2/25\n",
            "1558/1558 [==============================] - 3s 2ms/step - loss: 0.2335 - acc: 0.6027 - val_loss: 0.2397 - val_acc: 0.6116\n",
            "Epoch 3/25\n",
            "1558/1558 [==============================] - 3s 2ms/step - loss: 0.1719 - acc: 0.7182 - val_loss: 0.2018 - val_acc: 0.6979\n",
            "Epoch 4/25\n",
            "1558/1558 [==============================] - 3s 2ms/step - loss: 0.1381 - acc: 0.7843 - val_loss: 0.1797 - val_acc: 0.7467\n",
            "Epoch 5/25\n",
            "1558/1558 [==============================] - 3s 2ms/step - loss: 0.1193 - acc: 0.8177 - val_loss: 0.1698 - val_acc: 0.7561\n",
            "Epoch 6/25\n",
            "1558/1558 [==============================] - 3s 2ms/step - loss: 0.1059 - acc: 0.8389 - val_loss: 0.1701 - val_acc: 0.7674\n",
            "Epoch 7/25\n",
            "1558/1558 [==============================] - 3s 2ms/step - loss: 0.0942 - acc: 0.8594 - val_loss: 0.1608 - val_acc: 0.7730\n",
            "Epoch 8/25\n",
            "1558/1558 [==============================] - 3s 2ms/step - loss: 0.0868 - acc: 0.8691 - val_loss: 0.1597 - val_acc: 0.7842\n",
            "Epoch 9/25\n",
            "1558/1558 [==============================] - 3s 2ms/step - loss: 0.0799 - acc: 0.8819 - val_loss: 0.1614 - val_acc: 0.7842\n",
            "Epoch 10/25\n",
            "1558/1558 [==============================] - 3s 2ms/step - loss: 0.0751 - acc: 0.8922 - val_loss: 0.1614 - val_acc: 0.7955\n",
            "Epoch 11/25\n",
            "1558/1558 [==============================] - 3s 2ms/step - loss: 0.0691 - acc: 0.9018 - val_loss: 0.1611 - val_acc: 0.7861\n",
            "Epoch 12/25\n",
            "1558/1558 [==============================] - 3s 2ms/step - loss: 0.0655 - acc: 0.9076 - val_loss: 0.1605 - val_acc: 0.7824\n",
            "Epoch 13/25\n",
            "1558/1558 [==============================] - 3s 2ms/step - loss: 0.0619 - acc: 0.9134 - val_loss: 0.1605 - val_acc: 0.7767\n",
            "Epoch 14/25\n",
            "1558/1558 [==============================] - 3s 2ms/step - loss: 0.0603 - acc: 0.9159 - val_loss: 0.1646 - val_acc: 0.7674\n",
            "Epoch 15/25\n",
            "1558/1558 [==============================] - 3s 2ms/step - loss: 0.0565 - acc: 0.9178 - val_loss: 0.1683 - val_acc: 0.7749\n",
            "Epoch 16/25\n",
            "1558/1558 [==============================] - 3s 2ms/step - loss: 0.0542 - acc: 0.9236 - val_loss: 0.1642 - val_acc: 0.7730\n",
            "Epoch 17/25\n",
            "1558/1558 [==============================] - 3s 2ms/step - loss: 0.0523 - acc: 0.9307 - val_loss: 0.1697 - val_acc: 0.7711\n",
            "Epoch 18/25\n",
            "1558/1558 [==============================] - 3s 2ms/step - loss: 0.0500 - acc: 0.9320 - val_loss: 0.1719 - val_acc: 0.7730\n",
            "Epoch 19/25\n",
            "1558/1558 [==============================] - 3s 2ms/step - loss: 0.0485 - acc: 0.9300 - val_loss: 0.1721 - val_acc: 0.7655\n",
            "Epoch 20/25\n",
            "1558/1558 [==============================] - 3s 2ms/step - loss: 0.0451 - acc: 0.9352 - val_loss: 0.1721 - val_acc: 0.7674\n",
            "Epoch 21/25\n",
            "1558/1558 [==============================] - 3s 2ms/step - loss: 0.0439 - acc: 0.9409 - val_loss: 0.1811 - val_acc: 0.7655\n",
            "Epoch 22/25\n",
            "1558/1558 [==============================] - 3s 2ms/step - loss: 0.0430 - acc: 0.9365 - val_loss: 0.1758 - val_acc: 0.7711\n",
            "Epoch 23/25\n",
            "1558/1558 [==============================] - 3s 2ms/step - loss: 0.0410 - acc: 0.9435 - val_loss: 0.1787 - val_acc: 0.7674\n",
            "Epoch 24/25\n",
            "1558/1558 [==============================] - 3s 2ms/step - loss: 0.0394 - acc: 0.9435 - val_loss: 0.1800 - val_acc: 0.7655\n",
            "Epoch 25/25\n",
            "1558/1558 [==============================] - 3s 2ms/step - loss: 0.0389 - acc: 0.9454 - val_loss: 0.1830 - val_acc: 0.7711\n"
          ],
          "name": "stdout"
        }
      ]
    },
    {
      "cell_type": "code",
      "metadata": {
        "id": "pJKM9ie3GICv",
        "colab_type": "code",
        "outputId": "f77e2de2-af1a-47a3-bbd1-539eaf2d1097",
        "colab": {
          "base_uri": "https://localhost:8080/",
          "height": 392
        }
      },
      "source": [
        "plt.figure(figsize=(12,6))\n",
        "plt.subplot(1,2,1)\n",
        "plt.plot(h1.history['acc'],label='Train',linewidth=3)\n",
        "plt.plot(h1.history['val_acc'],label='Test',linewidth=3)\n",
        "plt.legend()\n",
        "plt.xlabel('Epochs')\n",
        "plt.ylabel('Accuracy')\n",
        "plt.subplot(1,2,2)\n",
        "plt.plot(h1.history['loss'],label='Train',linewidth=3)\n",
        "plt.plot(h1.history['val_loss'],label='Test',linewidth=3)\n",
        "plt.legend()\n",
        "plt.xlabel('Epochs')\n",
        "plt.ylabel('Loss');"
      ],
      "execution_count": 30,
      "outputs": [
        {
          "output_type": "display_data",
          "data": {
            "image/png": "[encoded data removed]",
            "text/plain": [
              "<Figure size 864x432 with 2 Axes>"
            ]
          },
          "metadata": {
            "tags": []
          }
        }
      ]
    },
    {
      "cell_type": "code",
      "metadata": {
        "id": "tIGW1okqjjnR",
        "colab_type": "code",
        "outputId": "ac4f4603-f5d3-427a-deac-778668aa40e6",
        "colab": {
          "base_uri": "https://localhost:8080/",
          "height": 173
        }
      },
      "source": [
        "from sklearn.metrics import classification_report\n",
        "y_pred=model1.predict_classes(Xpadt)\n",
        "target_names = ['Causa','Tratamiento']\n",
        "print(classification_report(dftest['Label'].values, y_pred, target_names=target_names))"
      ],
      "execution_count": 32,
      "outputs": [
        {
          "output_type": "stream",
          "text": [
            "              precision    recall  f1-score   support\n",
            "\n",
            "       Causa       0.80      0.80      0.80       297\n",
            " Tratamiento       0.75      0.75      0.75       236\n",
            "\n",
            "   micro avg       0.78      0.78      0.78       533\n",
            "   macro avg       0.78      0.78      0.78       533\n",
            "weighted avg       0.78      0.78      0.78       533\n",
            "\n"
          ],
          "name": "stdout"
        }
      ]
    },
    {
      "cell_type": "code",
      "metadata": {
        "id": "2N4DIM1OGoD6",
        "colab_type": "code",
        "outputId": "803ea6da-d053-4cf3-937f-e30b31882738",
        "colab": {
          "base_uri": "https://localhost:8080/",
          "height": 729
        }
      },
      "source": [
        "opt = Adam(lr=0.0001, decay=1e-5)\n",
        "model1 =Sequential()\n",
        "model1.add(Embedding(2000,128,input_length=voc,mask_zero=True))\n",
        "model1.add(LSTM(units=196, input_shape=out.shape,recurrent_dropout=0.2))\n",
        "model1.add(Dropout(0.2))\n",
        "model1.add(Dense(units=1,activation='sigmoid'))\n",
        "model1.compile(optimizer=opt,loss='binary_crossentropy',metrics=['acc'])\n",
        "h1=model1.fit(Xpad,df['Label'].values,epochs=20, batch_size=32,validation_data=(Xpadt,dftest['Label'].values),class_weight={0:0.75, 1:1.0})"
      ],
      "execution_count": 34,
      "outputs": [
        {
          "output_type": "stream",
          "text": [
            "Train on 1558 samples, validate on 533 samples\n",
            "Epoch 1/20\n",
            "1558/1558 [==============================] - 4s 3ms/step - loss: 0.5936 - acc: 0.5610 - val_loss: 0.6902 - val_acc: 0.6792\n",
            "Epoch 2/20\n",
            "1558/1558 [==============================] - 3s 2ms/step - loss: 0.5880 - acc: 0.7458 - val_loss: 0.6803 - val_acc: 0.7786\n",
            "Epoch 3/20\n",
            "1558/1558 [==============================] - 3s 2ms/step - loss: 0.5456 - acc: 0.7831 - val_loss: 0.5635 - val_acc: 0.7880\n",
            "Epoch 4/20\n",
            "1558/1558 [==============================] - 3s 2ms/step - loss: 0.3999 - acc: 0.8261 - val_loss: 0.5177 - val_acc: 0.7861\n",
            "Epoch 5/20\n",
            "1558/1558 [==============================] - 3s 2ms/step - loss: 0.3429 - acc: 0.8466 - val_loss: 0.5138 - val_acc: 0.7917\n",
            "Epoch 6/20\n",
            "1558/1558 [==============================] - 3s 2ms/step - loss: 0.3086 - acc: 0.8646 - val_loss: 0.5169 - val_acc: 0.7917\n",
            "Epoch 7/20\n",
            "1558/1558 [==============================] - 3s 2ms/step - loss: 0.2802 - acc: 0.8723 - val_loss: 0.5263 - val_acc: 0.7824\n",
            "Epoch 8/20\n",
            "1558/1558 [==============================] - 3s 2ms/step - loss: 0.2624 - acc: 0.8787 - val_loss: 0.5389 - val_acc: 0.7767\n",
            "Epoch 9/20\n",
            "1558/1558 [==============================] - 3s 2ms/step - loss: 0.2410 - acc: 0.8909 - val_loss: 0.5570 - val_acc: 0.7861\n",
            "Epoch 10/20\n",
            "1558/1558 [==============================] - 3s 2ms/step - loss: 0.2290 - acc: 0.8915 - val_loss: 0.5819 - val_acc: 0.7842\n",
            "Epoch 11/20\n",
            "1558/1558 [==============================] - 3s 2ms/step - loss: 0.2156 - acc: 0.9012 - val_loss: 0.6014 - val_acc: 0.7805\n",
            "Epoch 12/20\n",
            "1558/1558 [==============================] - 3s 2ms/step - loss: 0.2028 - acc: 0.9044 - val_loss: 0.6165 - val_acc: 0.7767\n",
            "Epoch 13/20\n",
            "1558/1558 [==============================] - 3s 2ms/step - loss: 0.1899 - acc: 0.9114 - val_loss: 0.6736 - val_acc: 0.7786\n",
            "Epoch 14/20\n",
            "1558/1558 [==============================] - 3s 2ms/step - loss: 0.1801 - acc: 0.9114 - val_loss: 0.6636 - val_acc: 0.7730\n",
            "Epoch 15/20\n",
            "1558/1558 [==============================] - 3s 2ms/step - loss: 0.1695 - acc: 0.9166 - val_loss: 0.6968 - val_acc: 0.7711\n",
            "Epoch 16/20\n",
            "1558/1558 [==============================] - 3s 2ms/step - loss: 0.1644 - acc: 0.9172 - val_loss: 0.7181 - val_acc: 0.7674\n",
            "Epoch 17/20\n",
            "1558/1558 [==============================] - 3s 2ms/step - loss: 0.1539 - acc: 0.9198 - val_loss: 0.7793 - val_acc: 0.7730\n",
            "Epoch 18/20\n",
            "1558/1558 [==============================] - 3s 2ms/step - loss: 0.1487 - acc: 0.9255 - val_loss: 0.7850 - val_acc: 0.7598\n",
            "Epoch 19/20\n",
            "1558/1558 [==============================] - 3s 2ms/step - loss: 0.1448 - acc: 0.9230 - val_loss: 0.7948 - val_acc: 0.7598\n",
            "Epoch 20/20\n",
            "1558/1558 [==============================] - 3s 2ms/step - loss: 0.1377 - acc: 0.9288 - val_loss: 0.8459 - val_acc: 0.7692\n"
          ],
          "name": "stdout"
        }
      ]
    },
    {
      "cell_type": "code",
      "metadata": {
        "id": "YzrFMFV1Vg-h",
        "colab_type": "code",
        "outputId": "7b05b9a2-a21b-4417-ea98-ace3af79ccf7",
        "colab": {
          "base_uri": "https://localhost:8080/",
          "height": 409
        }
      },
      "source": [
        "plt.figure(figsize=(12,6))\n",
        "plt.subplot(1,2,1)\n",
        "plt.plot(h1.history['acc'],label='Train',linewidth=3)\n",
        "plt.plot(h1.history['val_acc'],label='Test',linewidth=3)\n",
        "plt.legend()\n",
        "plt.xlabel('Epochs')\n",
        "plt.ylabel('Accuracy')\n",
        "plt.subplot(1,2,2)\n",
        "plt.plot(h1.history['loss'],label='Train',linewidth=3)\n",
        "plt.plot(h1.history['val_loss'],label='Test',linewidth=3)\n",
        "plt.legend()\n",
        "plt.xlabel('Epochs')\n",
        "plt.ylabel('Loss')"
      ],
      "execution_count": 35,
      "outputs": [
        {
          "output_type": "execute_result",
          "data": {
            "text/plain": [
              "Text(0,0.5,'Loss')"
            ]
          },
          "metadata": {
            "tags": []
          },
          "execution_count": 35
        },
        {
          "output_type": "display_data",
          "data": {
            "image/png": "[encoded data removed]",
            "text/plain": [
              "<Figure size 864x432 with 2 Axes>"
            ]
          },
          "metadata": {
            "tags": []
          }
        }
      ]
    },
    {
      "cell_type": "code",
      "metadata": {
        "id": "Jb1P2mnIR7HI",
        "colab_type": "code",
        "outputId": "c10ef2a7-ead4-4e29-ae31-2e2ed7b8b531",
        "colab": {
          "base_uri": "https://localhost:8080/",
          "height": 173
        }
      },
      "source": [
        "y_pred=model1.predict_classes(Xpadt)\n",
        "target_names = ['Causa','Tratamiento']\n",
        "print(classification_report(dftest['Label'].values, y_pred, target_names=target_names))"
      ],
      "execution_count": 36,
      "outputs": [
        {
          "output_type": "stream",
          "text": [
            "              precision    recall  f1-score   support\n",
            "\n",
            "       Causa       0.80      0.77      0.79       297\n",
            " Tratamiento       0.73      0.76      0.75       236\n",
            "\n",
            "   micro avg       0.77      0.77      0.77       533\n",
            "   macro avg       0.77      0.77      0.77       533\n",
            "weighted avg       0.77      0.77      0.77       533\n",
            "\n"
          ],
          "name": "stdout"
        }
      ]
    },
    {
      "cell_type": "markdown",
      "metadata": {
        "id": "oP6ORyU5sMPg",
        "colab_type": "text"
      },
      "source": [
        "* Debido al comportamiento del loss aplicaremos regularizacion esperando que mejore el rendimiento del modelo"
      ]
    },
    {
      "cell_type": "code",
      "metadata": {
        "id": "wPvoiIw1TeC5",
        "colab_type": "code",
        "outputId": "f626b96d-df4e-4b6e-b15d-9661f7e5be68",
        "colab": {
          "base_uri": "https://localhost:8080/",
          "height": 903
        }
      },
      "source": [
        "from keras import regularizers\n",
        "opt = Adam(lr=0.0001, decay=1e-5)\n",
        "model1 =Sequential()\n",
        "model1.add(Embedding(1000,128,input_length=voc,mask_zero=True))\n",
        "model1.add(LSTM(units=150, input_shape=out.shape,recurrent_dropout=0.2))\n",
        "model1.add(Dropout(0.2))\n",
        "model1.add(Dense(units=1,activation='sigmoid',kernel_regularizer=regularizers.l2(0.01)))\n",
        "model1.compile(optimizer=opt,loss='binary_crossentropy',metrics=['acc'])\n",
        "h1=model1.fit(Xpad,df['Label'].values,epochs=25, batch_size=32,validation_data=(Xpadt,dftest['Label'].values),class_weight={0:0.75, 1:1.0})"
      ],
      "execution_count": 37,
      "outputs": [
        {
          "output_type": "stream",
          "text": [
            "Train on 1558 samples, validate on 533 samples\n",
            "Epoch 1/25\n",
            "1558/1558 [==============================] - 4s 3ms/step - loss: 0.6138 - acc: 0.5494 - val_loss: 0.7101 - val_acc: 0.6210\n",
            "Epoch 2/25\n",
            "1558/1558 [==============================] - 2s 1ms/step - loss: 0.6074 - acc: 0.7015 - val_loss: 0.7007 - val_acc: 0.7355\n",
            "Epoch 3/25\n",
            "1558/1558 [==============================] - 2s 1ms/step - loss: 0.5840 - acc: 0.8004 - val_loss: 0.6473 - val_acc: 0.7617\n",
            "Epoch 4/25\n",
            "1558/1558 [==============================] - 2s 1ms/step - loss: 0.4588 - acc: 0.8267 - val_loss: 0.5585 - val_acc: 0.7674\n",
            "Epoch 5/25\n",
            "1558/1558 [==============================] - 2s 1ms/step - loss: 0.3720 - acc: 0.8363 - val_loss: 0.5466 - val_acc: 0.7880\n",
            "Epoch 6/25\n",
            "1558/1558 [==============================] - 2s 1ms/step - loss: 0.3340 - acc: 0.8582 - val_loss: 0.5329 - val_acc: 0.7955\n",
            "Epoch 7/25\n",
            "1558/1558 [==============================] - 2s 1ms/step - loss: 0.3083 - acc: 0.8736 - val_loss: 0.5419 - val_acc: 0.7974\n",
            "Epoch 8/25\n",
            "1558/1558 [==============================] - 2s 1ms/step - loss: 0.2889 - acc: 0.8813 - val_loss: 0.5487 - val_acc: 0.7974\n",
            "Epoch 9/25\n",
            "1558/1558 [==============================] - 2s 1ms/step - loss: 0.2702 - acc: 0.8870 - val_loss: 0.5616 - val_acc: 0.7955\n",
            "Epoch 10/25\n",
            "1558/1558 [==============================] - 2s 1ms/step - loss: 0.2544 - acc: 0.8960 - val_loss: 0.5795 - val_acc: 0.7974\n",
            "Epoch 11/25\n",
            "1558/1558 [==============================] - 2s 1ms/step - loss: 0.2438 - acc: 0.9031 - val_loss: 0.6016 - val_acc: 0.7861\n",
            "Epoch 12/25\n",
            "1558/1558 [==============================] - 2s 1ms/step - loss: 0.2285 - acc: 0.9114 - val_loss: 0.6228 - val_acc: 0.7842\n",
            "Epoch 13/25\n",
            "1558/1558 [==============================] - 2s 1ms/step - loss: 0.2221 - acc: 0.9056 - val_loss: 0.6276 - val_acc: 0.7805\n",
            "Epoch 14/25\n",
            "1558/1558 [==============================] - 2s 1ms/step - loss: 0.2145 - acc: 0.9121 - val_loss: 0.6403 - val_acc: 0.7824\n",
            "Epoch 15/25\n",
            "1558/1558 [==============================] - 2s 1ms/step - loss: 0.2025 - acc: 0.9198 - val_loss: 0.6673 - val_acc: 0.7805\n",
            "Epoch 16/25\n",
            "1558/1558 [==============================] - 2s 1ms/step - loss: 0.1988 - acc: 0.9166 - val_loss: 0.6737 - val_acc: 0.7805\n",
            "Epoch 17/25\n",
            "1558/1558 [==============================] - 2s 1ms/step - loss: 0.1939 - acc: 0.9211 - val_loss: 0.6890 - val_acc: 0.7767\n",
            "Epoch 18/25\n",
            "1558/1558 [==============================] - 2s 1ms/step - loss: 0.1857 - acc: 0.9204 - val_loss: 0.7166 - val_acc: 0.7730\n",
            "Epoch 19/25\n",
            "1558/1558 [==============================] - 2s 1ms/step - loss: 0.1805 - acc: 0.9230 - val_loss: 0.7223 - val_acc: 0.7767\n",
            "Epoch 20/25\n",
            "1558/1558 [==============================] - 2s 1ms/step - loss: 0.1755 - acc: 0.9262 - val_loss: 0.7227 - val_acc: 0.7711\n",
            "Epoch 21/25\n",
            "1558/1558 [==============================] - 2s 1ms/step - loss: 0.1742 - acc: 0.9268 - val_loss: 0.7537 - val_acc: 0.7767\n",
            "Epoch 22/25\n",
            "1558/1558 [==============================] - 2s 1ms/step - loss: 0.1676 - acc: 0.9281 - val_loss: 0.7500 - val_acc: 0.7749\n",
            "Epoch 23/25\n",
            "1558/1558 [==============================] - 2s 1ms/step - loss: 0.1642 - acc: 0.9300 - val_loss: 0.7862 - val_acc: 0.7711\n",
            "Epoch 24/25\n",
            "1558/1558 [==============================] - 2s 1ms/step - loss: 0.1667 - acc: 0.9300 - val_loss: 0.7574 - val_acc: 0.7730\n",
            "Epoch 25/25\n",
            "1558/1558 [==============================] - 2s 1ms/step - loss: 0.1612 - acc: 0.9288 - val_loss: 0.7721 - val_acc: 0.7749\n"
          ],
          "name": "stdout"
        }
      ]
    },
    {
      "cell_type": "code",
      "metadata": {
        "id": "RUEZJvmHcX4F",
        "colab_type": "code",
        "colab": {
          "base_uri": "https://localhost:8080/",
          "height": 173
        },
        "outputId": "fd893f4e-9859-4b51-d837-875e63ceb17a"
      },
      "source": [
        "y_pred=model1.predict_classes(Xpadt)\n",
        "target_names = ['Causa','Tratamiento']\n",
        "print(classification_report(dftest['Label'].values, y_pred, target_names=target_names))"
      ],
      "execution_count": 38,
      "outputs": [
        {
          "output_type": "stream",
          "text": [
            "              precision    recall  f1-score   support\n",
            "\n",
            "       Causa       0.80      0.79      0.80       297\n",
            " Tratamiento       0.74      0.76      0.75       236\n",
            "\n",
            "   micro avg       0.77      0.77      0.77       533\n",
            "   macro avg       0.77      0.77      0.77       533\n",
            "weighted avg       0.78      0.77      0.78       533\n",
            "\n"
          ],
          "name": "stdout"
        }
      ]
    },
    {
      "cell_type": "markdown",
      "metadata": {
        "id": "Te1cHRQbspy8",
        "colab_type": "text"
      },
      "source": [
        "## Utilizar menos palabras en el tokenizador empeora el rendimiento del modelo"
      ]
    }
  ]
}