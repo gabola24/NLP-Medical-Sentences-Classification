{
  "nbformat": 4,
  "nbformat_minor": 0,
  "metadata": {
    "colab": {
      "name": "ProyectoU4_V2.ipynb",
      "version": "0.3.2",
      "provenance": [],
      "toc_visible": true
    },
    "kernelspec": {
      "name": "python2",
      "display_name": "Python 2"
    }
  },
  "cells": [
    {
      "cell_type": "code",
      "metadata": {
        "id": "zhu_oVzAY3TF",
        "colab_type": "code",
        "outputId": "2725cce7-ef9d-48bb-d06d-b3540971ba68",
        "colab": {
          "base_uri": "https://localhost:8080/",
          "height": 34
        }
      },
      "source": [
        "import collections\n",
        "import pandas as pd\n",
        "import numpy as np\n",
        "import matplotlib.pyplot as plt\n",
        "from keras.preprocessing.text import Tokenizer\n",
        "from keras.preprocessing.sequence import pad_sequences\n",
        "from keras.models import Model, Sequential\n",
        "from keras.layers import GRU, LSTM, Input, Dense, TimeDistributed, Embedding, Activation, RepeatVector, Bidirectional, Concatenate, Dot\n",
        "from keras.layers.embeddings import Embedding\n",
        "from keras.optimizers import Adam\n",
        "from keras.losses import sparse_categorical_crossentropy\n",
        "from keras.preprocessing.text import one_hot\n",
        "from keras.utils import np_utils\n",
        "from sklearn.preprocessing import label_binarize"
      ],
      "execution_count": 1,
      "outputs": [
        {
          "output_type": "stream",
          "text": [
            "Using TensorFlow backend.\n"
          ],
          "name": "stderr"
        }
      ]
    },
    {
      "cell_type": "code",
      "metadata": {
        "id": "mtYnqzjeZBO4",
        "colab_type": "code",
        "colab": {}
      },
      "source": [
        "train = pd.read_csv('/content/DataSet/train.csv')\n",
        "test = pd.read_csv('/content/DataSet/test.csv')"
      ],
      "execution_count": 0,
      "outputs": []
    },
    {
      "cell_type": "code",
      "metadata": {
        "id": "9b_VYDFZZBUO",
        "colab_type": "code",
        "outputId": "8e056b08-75b1-4ff2-b609-0499a30ca842",
        "colab": {
          "base_uri": "https://localhost:8080/",
          "height": 156
        }
      },
      "source": [
        "x_train = train['sentence'].as_matrix()\n",
        "y_train = train['relation'].as_matrix()\n",
        "x_test = test['sentence'].as_matrix()\n",
        "y_test = test['relation'].as_matrix()"
      ],
      "execution_count": 3,
      "outputs": [
        {
          "output_type": "stream",
          "text": [
            "/usr/local/lib/python2.7/dist-packages/ipykernel_launcher.py:1: FutureWarning: Method .as_matrix will be removed in a future version. Use .values instead.\n",
            "  \"\"\"Entry point for launching an IPython kernel.\n",
            "/usr/local/lib/python2.7/dist-packages/ipykernel_launcher.py:2: FutureWarning: Method .as_matrix will be removed in a future version. Use .values instead.\n",
            "  \n",
            "/usr/local/lib/python2.7/dist-packages/ipykernel_launcher.py:3: FutureWarning: Method .as_matrix will be removed in a future version. Use .values instead.\n",
            "  This is separate from the ipykernel package so we can avoid doing imports until\n",
            "/usr/local/lib/python2.7/dist-packages/ipykernel_launcher.py:4: FutureWarning: Method .as_matrix will be removed in a future version. Use .values instead.\n",
            "  after removing the cwd from sys.path.\n"
          ],
          "name": "stderr"
        }
      ]
    },
    {
      "cell_type": "code",
      "metadata": {
        "id": "UUsYzlP1mZyU",
        "colab_type": "code",
        "colab": {}
      },
      "source": [
        "x_train2c=[]\n",
        "x_train2t=[]\n",
        "#y_train2=[]\n",
        "\n",
        "for i in range(13340):\n",
        "  if y_train[i] == 'causes':\n",
        "    x_train2c.append(x_train[i])\n",
        "    #y_train2.append(0)\n",
        "  elif y_train[i] == 'treats':\n",
        "    x_train2t.append(x_train[i])\n",
        "    #y_train2.append(1)  \n",
        "    \n",
        "x_test2c=[]\n",
        "x_test2t=[]\n",
        "\n",
        "for i in range(4566):\n",
        "  if y_test[i] == 'causes':\n",
        "    x_test2c.append(x_test[i])\n",
        "    #y_test2.append(y_test[i])\n",
        "  elif y_test[i] == 'treats':\n",
        "    x_test2t.append(x_test[i])\n",
        "    #y_test2.append(y_test[i]) "
      ],
      "execution_count": 0,
      "outputs": []
    },
    {
      "cell_type": "code",
      "metadata": {
        "id": "ej70KhHWqXux",
        "colab_type": "code",
        "colab": {}
      },
      "source": [
        "causesTrain=pd.Series(x_train2c).unique()\n",
        "treatsTrain=pd.Series(x_train2t).unique()\n",
        "causesTest=pd.Series(x_test2c).unique()\n",
        "treatsTest=pd.Series(x_test2t).unique()\n"
      ],
      "execution_count": 0,
      "outputs": []
    },
    {
      "cell_type": "code",
      "metadata": {
        "id": "fiPAc7q3rCwX",
        "colab_type": "code",
        "colab": {}
      },
      "source": [
        "X_train=[]\n",
        "X_test=[]\n",
        "y_train=[]\n",
        "y_test=[]\n",
        "for i in causesTrain:\n",
        "  X_train.append(i)\n",
        "  y_train.append(0)\n",
        "for i in treatsTrain:\n",
        "  X_train.append(i)\n",
        "  y_train.append(1)\n",
        "for i in causesTest:\n",
        "  X_test.append(i)\n",
        "  y_test.append(0)\n",
        "for i in treatsTest:\n",
        "  X_test.append(i)\n",
        "  y_test.append(1) "
      ],
      "execution_count": 0,
      "outputs": []
    },
    {
      "cell_type": "code",
      "metadata": {
        "id": "vSpdIMTgsyqT",
        "colab_type": "code",
        "colab": {}
      },
      "source": [
        "df=pd.DataFrame()\n",
        "df['Frase']=X_train\n",
        "df['Label']=y_train"
      ],
      "execution_count": 0,
      "outputs": []
    },
    {
      "cell_type": "code",
      "metadata": {
        "id": "biczMTYnx2Ys",
        "colab_type": "code",
        "colab": {}
      },
      "source": [
        "dftest=pd.DataFrame()\n",
        "dftest['Frase']=X_test\n",
        "dftest['Label']=y_test"
      ],
      "execution_count": 0,
      "outputs": []
    },
    {
      "cell_type": "code",
      "metadata": {
        "id": "VU4pXZKAupQQ",
        "colab_type": "code",
        "colab": {
          "base_uri": "https://localhost:8080/",
          "height": 281
        },
        "outputId": "0e8284d5-7f38-4ac9-cf60-e9f294941100"
      },
      "source": [
        "plt.bar(['causes','treats'],df['Label'].value_counts())\n",
        "plt.title('Distribucion de clases en train');"
      ],
      "execution_count": 12,
      "outputs": [
        {
          "output_type": "display_data",
          "data": {
            "image/png": "[encoded data removed]",
            "text/plain": [
              "<Figure size 432x288 with 1 Axes>"
            ]
          },
          "metadata": {
            "tags": []
          }
        }
      ]
    },
    {
      "cell_type": "code",
      "metadata": {
        "id": "Sbdv65P9yHpr",
        "colab_type": "code",
        "colab": {
          "base_uri": "https://localhost:8080/",
          "height": 281
        },
        "outputId": "0935c228-cf67-4de0-85eb-1bcb578c6ebb"
      },
      "source": [
        "plt.bar(['causes','treats'],dftest['Label'].value_counts())\n",
        "plt.title('Distribucion de clases en test');"
      ],
      "execution_count": 13,
      "outputs": [
        {
          "output_type": "display_data",
          "data": {
            "image/png": "[encoded data removed]",
            "text/plain": [
              "<Figure size 432x288 with 1 Axes>"
            ]
          },
          "metadata": {
            "tags": []
          }
        }
      ]
    },
    {
      "cell_type": "markdown",
      "metadata": {
        "id": "vpr2LgDhviZ4",
        "colab_type": "text"
      },
      "source": [
        "* Existe desbalance de clase, lo tendremos en cuenta en los parametros del modelo.\n",
        "\n",
        "* El set de datos estaba particionado completamente, aplicamos un muestreo para 'desordenar' el dataframe."
      ]
    },
    {
      "cell_type": "code",
      "metadata": {
        "id": "tkWyB7Q7v6Aj",
        "colab_type": "code",
        "colab": {
          "base_uri": "https://localhost:8080/",
          "height": 363
        },
        "outputId": "13fb4769-bb0a-4c9c-eae4-46ef45c87fb9"
      },
      "source": [
        "dftest=dftest.sample(frac=1).reset_index(drop=True)\n",
        "df=df.sample(frac=1).reset_index(drop=True)\n",
        "df.head(10)"
      ],
      "execution_count": 15,
      "outputs": [
        {
          "output_type": "execute_result",
          "data": {
            "text/html": [
              "<div>\n",
              "<style scoped>\n",
              "    .dataframe tbody tr th:only-of-type {\n",
              "        vertical-align: middle;\n",
              "    }\n",
              "\n",
              "    .dataframe tbody tr th {\n",
              "        vertical-align: top;\n",
              "    }\n",
              "\n",
              "    .dataframe thead th {\n",
              "        text-align: right;\n",
              "    }\n",
              "</style>\n",
              "<table border=\"1\" class=\"dataframe\">\n",
              "  <thead>\n",
              "    <tr style=\"text-align: right;\">\n",
              "      <th></th>\n",
              "      <th>Frase</th>\n",
              "      <th>Label</th>\n",
              "    </tr>\n",
              "  </thead>\n",
              "  <tbody>\n",
              "    <tr>\n",
              "      <th>0</th>\n",
              "      <td>Vaccination against NICOTINE represents a prom...</td>\n",
              "      <td>1</td>\n",
              "    </tr>\n",
              "    <tr>\n",
              "      <th>1</th>\n",
              "      <td>Schmitt C, Sobel JD, Meriwether CBACTERIAL VAG...</td>\n",
              "      <td>1</td>\n",
              "    </tr>\n",
              "    <tr>\n",
              "      <th>2</th>\n",
              "      <td>e.g., DIMENHYDRINATE MECLIZINE ANTI EMETICS th...</td>\n",
              "      <td>1</td>\n",
              "    </tr>\n",
              "    <tr>\n",
              "      <th>3</th>\n",
              "      <td>Indeed, administration of galanin receptor ago...</td>\n",
              "      <td>0</td>\n",
              "    </tr>\n",
              "    <tr>\n",
              "      <th>4</th>\n",
              "      <td>Evidence:  In a randomized controlled trial, m...</td>\n",
              "      <td>1</td>\n",
              "    </tr>\n",
              "    <tr>\n",
              "      <th>5</th>\n",
              "      <td>BLASTOID MANTLE CELL LYMPHOMA (BV MCL) is a ra...</td>\n",
              "      <td>1</td>\n",
              "    </tr>\n",
              "    <tr>\n",
              "      <th>6</th>\n",
              "      <td>In chronic active hepatitis of viral (132 case...</td>\n",
              "      <td>0</td>\n",
              "    </tr>\n",
              "    <tr>\n",
              "      <th>7</th>\n",
              "      <td>LACTULOSE reduced symptoms of HEPATIC ENCEPHAL...</td>\n",
              "      <td>0</td>\n",
              "    </tr>\n",
              "    <tr>\n",
              "      <th>8</th>\n",
              "      <td>Antigens are commonly categorized by type and ...</td>\n",
              "      <td>0</td>\n",
              "    </tr>\n",
              "    <tr>\n",
              "      <th>9</th>\n",
              "      <td>Illingworth DR. Mevinolin plus COLESTIPOL in t...</td>\n",
              "      <td>1</td>\n",
              "    </tr>\n",
              "  </tbody>\n",
              "</table>\n",
              "</div>"
            ],
            "text/plain": [
              "                                               Frase  Label\n",
              "0  Vaccination against NICOTINE represents a prom...      1\n",
              "1  Schmitt C, Sobel JD, Meriwether CBACTERIAL VAG...      1\n",
              "2  e.g., DIMENHYDRINATE MECLIZINE ANTI EMETICS th...      1\n",
              "3  Indeed, administration of galanin receptor ago...      0\n",
              "4  Evidence:  In a randomized controlled trial, m...      1\n",
              "5  BLASTOID MANTLE CELL LYMPHOMA (BV MCL) is a ra...      1\n",
              "6  In chronic active hepatitis of viral (132 case...      0\n",
              "7  LACTULOSE reduced symptoms of HEPATIC ENCEPHAL...      0\n",
              "8  Antigens are commonly categorized by type and ...      0\n",
              "9  Illingworth DR. Mevinolin plus COLESTIPOL in t...      1"
            ]
          },
          "metadata": {
            "tags": []
          },
          "execution_count": 15
        }
      ]
    },
    {
      "cell_type": "markdown",
      "metadata": {
        "id": "O7xbalU2jR-R",
        "colab_type": "text"
      },
      "source": [
        "### Preprocesamiento de los datos\n",
        "\n",
        "* Eliminacion de Stopwords y palabras no deseadas\n",
        "* Tokenizacion\n",
        "* Padding"
      ]
    },
    {
      "cell_type": "code",
      "metadata": {
        "id": "Is30Y77pZBek",
        "colab_type": "code",
        "outputId": "b598483b-2849-4916-aae7-96acfeb4b595",
        "colab": {
          "base_uri": "https://localhost:8080/",
          "height": 104
        }
      },
      "source": [
        "import nltk\n",
        "from nltk.corpus import stopwords\n",
        "nltk.download('punkt')\n",
        "nltk.download('stopwords')"
      ],
      "execution_count": 21,
      "outputs": [
        {
          "output_type": "stream",
          "text": [
            "[nltk_data] Downloading package punkt to /root/nltk_data...\n",
            "[nltk_data]   Package punkt is already up-to-date!\n",
            "[nltk_data] Downloading package stopwords to /root/nltk_data...\n",
            "[nltk_data]   Package stopwords is already up-to-date!\n"
          ],
          "name": "stdout"
        },
        {
          "output_type": "execute_result",
          "data": {
            "text/plain": [
              "True"
            ]
          },
          "metadata": {
            "tags": []
          },
          "execution_count": 21
        }
      ]
    },
    {
      "cell_type": "code",
      "metadata": {
        "id": "1xvOcsDNZBhP",
        "colab_type": "code",
        "colab": {}
      },
      "source": [
        "aW=[]\n",
        "# Removing Stop Words\n",
        "import re \n",
        "processed_article = df['Frase'].values\n",
        "\n",
        "for j in range(df['Frase'].values.shape[0]):  \n",
        "    processed_article[j] = re.sub(\"'S\", ' ', processed_article[j])  \n",
        "    processed_article[j] = re.sub('[^a-zA-Z]', ' ', processed_article[j])    \n",
        "    processed_article[j] = re.sub(r'\\s+', ' ', processed_article[j])\n",
        "    # Preparing the dataset\n",
        "    all_sentences = nltk.sent_tokenize(processed_article[j])\n",
        "    all_words = [nltk.word_tokenize(sent) for sent in all_sentences]\n",
        "    for i in range(len(all_words)):\n",
        "      \n",
        "        all_words[i] = [w.lower() for w in all_words[i] if w not in stopwords.words('english')]\n",
        "        all_words[i] = [w for w in all_words[i] if w not in ['s','l','a','the','of','v','tu','t','b','c','g','e','p','m','d','j','i']]\n",
        "\n",
        "    aW.append(all_words[0])"
      ],
      "execution_count": 0,
      "outputs": []
    },
    {
      "cell_type": "code",
      "metadata": {
        "id": "Wx90g23Uc9MA",
        "colab_type": "code",
        "colab": {}
      },
      "source": [
        "aWt=[]\n",
        "# Removing Stop Words\n",
        "import re \n",
        "processed_article = dftest['Frase'].values\n",
        "\n",
        "for j in range(dftest['Frase'].values.shape[0]):  \n",
        "    processed_article[j] = re.sub(\"'S\", ' ', processed_article[j])  \n",
        "    processed_article[j] = re.sub('[^a-zA-Z]', ' ', processed_article[j])    \n",
        "    processed_article[j] = re.sub(r'\\s+', ' ', processed_article[j])\n",
        "    # Preparing the dataset\n",
        "    all_sentences = nltk.sent_tokenize(processed_article[j])\n",
        "    all_words = [nltk.word_tokenize(sent) for sent in all_sentences]\n",
        "    for i in range(len(all_words)):\n",
        "      \n",
        "        all_words[i] = [w.lower() for w in all_words[i] if w not in stopwords.words('english')]\n",
        "        all_words[i] = [w for w in all_words[i] if w not in ['s','l','a','the','of','v','tu','t','b','c','g','e','p','m','d','j','i']]\n",
        "\n",
        "    aWt.append(all_words[0])"
      ],
      "execution_count": 0,
      "outputs": []
    },
    {
      "cell_type": "markdown",
      "metadata": {
        "id": "1IP-bGp8j08p",
        "colab_type": "text"
      },
      "source": [
        "* 2000 palabras para el tokenizer"
      ]
    },
    {
      "cell_type": "code",
      "metadata": {
        "id": "vlDuR-R5ZBmT",
        "colab_type": "code",
        "colab": {}
      },
      "source": [
        "max_fatures = 2000\n",
        "tokenizer = Tokenizer(num_words=max_fatures, split=' ')\n",
        "tokenizer.fit_on_texts(aW)\n",
        "X = tokenizer.texts_to_sequences(aW)\n",
        "Xt = tokenizer.texts_to_sequences(aWt)"
      ],
      "execution_count": 0,
      "outputs": []
    },
    {
      "cell_type": "markdown",
      "metadata": {
        "id": "n7jN0VzPj_aB",
        "colab_type": "text"
      },
      "source": [
        "* Padding :"
      ]
    },
    {
      "cell_type": "code",
      "metadata": {
        "id": "cQ6vvXnYZBpW",
        "colab_type": "code",
        "colab": {
          "base_uri": "https://localhost:8080/",
          "height": 34
        },
        "outputId": "889bb1fb-15ad-4fc7-f1da-46dfa6172b38"
      },
      "source": [
        "from keras.preprocessing.sequence import pad_sequences\n",
        "Xpad=pad_sequences(X,padding='post',maxlen=25)\n",
        "voc=Xpad[0].size\n",
        "print('El tamaño maximo de la secuencia es '+ str(Xpad[0].size))"
      ],
      "execution_count": 30,
      "outputs": [
        {
          "output_type": "stream",
          "text": [
            "El tamaño maximo de la secuencia es 25\n"
          ],
          "name": "stdout"
        }
      ]
    },
    {
      "cell_type": "code",
      "metadata": {
        "id": "Tltb0lsIdRr0",
        "colab_type": "code",
        "colab": {
          "base_uri": "https://localhost:8080/",
          "height": 34
        },
        "outputId": "f7212bd7-fed0-4383-c810-04d29692dd78"
      },
      "source": [
        "Xpadt=pad_sequences(Xt,padding='post',maxlen=25)\n",
        "voct=Xpadt[0].size\n",
        "print('El tamaño maximo de la secuencia es '+ str(Xpadt[0].size))"
      ],
      "execution_count": 31,
      "outputs": [
        {
          "output_type": "stream",
          "text": [
            "El tamaño maximo de la secuencia es 25\n"
          ],
          "name": "stdout"
        }
      ]
    },
    {
      "cell_type": "code",
      "metadata": {
        "id": "0ZwiGc3h3KPr",
        "colab_type": "code",
        "colab": {
          "base_uri": "https://localhost:8080/",
          "height": 69
        },
        "outputId": "48e65d7a-02d2-4f04-84da-b2c1e99ba4d1"
      },
      "source": [
        "Xpad[1005]"
      ],
      "execution_count": 32,
      "outputs": [
        {
          "output_type": "execute_result",
          "data": {
            "text/plain": [
              "array([ 515,   31,   17,   62,  399, 1790, 1104,  333,    0,    0,    0,\n",
              "          0,    0,    0,    0,    0,    0,    0,    0,    0,    0,    0,\n",
              "          0,    0,    0], dtype=int32)"
            ]
          },
          "metadata": {
            "tags": []
          },
          "execution_count": 32
        }
      ]
    },
    {
      "cell_type": "markdown",
      "metadata": {
        "id": "XX4ApIRPkquH",
        "colab_type": "text"
      },
      "source": [
        "### Entrenamiento:\n",
        "Utilizaremos una arquitectura compuesta por:\n",
        "* Embedding\n",
        "* LSTM\n",
        "* Dense"
      ]
    },
    {
      "cell_type": "code",
      "metadata": {
        "id": "PJsX4MOphRLd",
        "colab_type": "code",
        "colab": {}
      },
      "source": [
        "from keras.layers import Dense,LSTM,Dropout,GRU,SimpleRNN,Embedding,Dropout\n",
        "from keras.models import Sequential\n",
        "from sklearn.model_selection import train_test_split"
      ],
      "execution_count": 0,
      "outputs": []
    },
    {
      "cell_type": "code",
      "metadata": {
        "id": "1nghN_58iFcp",
        "colab_type": "code",
        "colab": {
          "base_uri": "https://localhost:8080/",
          "height": 34
        },
        "outputId": "91b1cb19-b20f-4cb8-9f0a-292ac6f6258f"
      },
      "source": [
        "model =Sequential()\n",
        "model.add(Embedding(2000,128,input_length=voc,mask_zero=True))\n",
        "model.compile('adam','mse')\n",
        "out=model.predict(Xpad) # x train\n",
        "out.shape"
      ],
      "execution_count": 34,
      "outputs": [
        {
          "output_type": "execute_result",
          "data": {
            "text/plain": [
              "(1558, 25, 128)"
            ]
          },
          "metadata": {
            "tags": []
          },
          "execution_count": 34
        }
      ]
    },
    {
      "cell_type": "markdown",
      "metadata": {
        "id": "LzZpiXHbltyi",
        "colab_type": "text"
      },
      "source": [
        "From the Keras documentation:\n",
        "\n",
        "* dropout: Float between 0 and 1. Fraction of the units to drop for the linear transformation of the inputs.\n",
        "\n",
        "* recurrent_dropout: Float between 0 and 1. Fraction of the units to drop for the linear transformation of the recurrent state.\n",
        "\n"
      ]
    },
    {
      "cell_type": "code",
      "metadata": {
        "id": "l58ylaM25jGK",
        "colab_type": "code",
        "colab": {
          "base_uri": "https://localhost:8080/",
          "height": 1027
        },
        "outputId": "699434ce-6189-4922-9392-2da5cd6e5481"
      },
      "source": [
        "model1 =Sequential()\n",
        "model1.add(Embedding(2000,128,input_length=voc,mask_zero=True))\n",
        "model1.add(LSTM(units=196, input_shape=out.shape,recurrent_dropout=0.2))\n",
        "model1.add(Dense(units=1,activation='relu'))\n",
        "model1.compile('adam','binary_crossentropy',metrics=['acc'])\n",
        "h1=model1.fit(Xpad,df['Label'].values,epochs=25, batch_size=32,validation_data=(Xpadt,dftest['Label'].values))"
      ],
      "execution_count": 35,
      "outputs": [
        {
          "output_type": "stream",
          "text": [
            "WARNING:tensorflow:From /usr/local/lib/python2.7/dist-packages/keras/backend/tensorflow_backend.py:3445: calling dropout (from tensorflow.python.ops.nn_ops) with keep_prob is deprecated and will be removed in a future version.\n",
            "Instructions for updating:\n",
            "Please use `rate` instead of `keep_prob`. Rate should be set to `rate = 1 - keep_prob`.\n",
            "WARNING:tensorflow:From /usr/local/lib/python2.7/dist-packages/tensorflow/python/ops/math_ops.py:3066: to_int32 (from tensorflow.python.ops.math_ops) is deprecated and will be removed in a future version.\n",
            "Instructions for updating:\n",
            "Use tf.cast instead.\n",
            "Train on 1558 samples, validate on 533 samples\n",
            "Epoch 1/25\n",
            "1558/1558 [==============================] - 6s 4ms/step - loss: 0.9050 - acc: 0.6104 - val_loss: 0.5473 - val_acc: 0.7261\n",
            "Epoch 2/25\n",
            "1558/1558 [==============================] - 6s 4ms/step - loss: 0.4630 - acc: 0.7863 - val_loss: 0.7125 - val_acc: 0.7824\n",
            "Epoch 3/25\n",
            "1558/1558 [==============================] - 6s 4ms/step - loss: 0.3911 - acc: 0.8350 - val_loss: 1.0720 - val_acc: 0.7373\n",
            "Epoch 4/25\n",
            "1558/1558 [==============================] - 5s 4ms/step - loss: 0.4055 - acc: 0.7895 - val_loss: 1.2466 - val_acc: 0.6548\n",
            "Epoch 5/25\n",
            "1558/1558 [==============================] - 6s 4ms/step - loss: 0.5105 - acc: 0.7811 - val_loss: 1.0536 - val_acc: 0.7749\n",
            "Epoch 6/25\n",
            "1558/1558 [==============================] - 5s 4ms/step - loss: 0.3960 - acc: 0.8062 - val_loss: 1.2453 - val_acc: 0.7767\n",
            "Epoch 7/25\n",
            "1558/1558 [==============================] - 6s 4ms/step - loss: 0.3305 - acc: 0.8890 - val_loss: 1.1678 - val_acc: 0.7129\n",
            "Epoch 8/25\n",
            "1558/1558 [==============================] - 6s 4ms/step - loss: 0.2846 - acc: 0.8697 - val_loss: 1.2091 - val_acc: 0.7505\n",
            "Epoch 9/25\n",
            "1558/1558 [==============================] - 6s 4ms/step - loss: 0.2348 - acc: 0.8241 - val_loss: 1.2988 - val_acc: 0.7261\n",
            "Epoch 10/25\n",
            "1558/1558 [==============================] - 6s 4ms/step - loss: 0.2272 - acc: 0.8184 - val_loss: 1.2917 - val_acc: 0.7411\n",
            "Epoch 11/25\n",
            "1558/1558 [==============================] - 6s 4ms/step - loss: 0.2372 - acc: 0.8151 - val_loss: 1.5612 - val_acc: 0.6698\n",
            "Epoch 12/25\n",
            "1558/1558 [==============================] - 6s 4ms/step - loss: 0.2534 - acc: 0.7863 - val_loss: 1.5294 - val_acc: 0.6942\n",
            "Epoch 13/25\n",
            "1558/1558 [==============================] - 5s 4ms/step - loss: 0.2512 - acc: 0.7779 - val_loss: 1.7202 - val_acc: 0.6529\n",
            "Epoch 14/25\n",
            "1558/1558 [==============================] - 6s 4ms/step - loss: 0.2493 - acc: 0.8049 - val_loss: 1.7442 - val_acc: 0.6398\n",
            "Epoch 15/25\n",
            "1558/1558 [==============================] - 6s 4ms/step - loss: 0.2509 - acc: 0.7696 - val_loss: 1.7253 - val_acc: 0.6492\n",
            "Epoch 16/25\n",
            "1558/1558 [==============================] - 6s 4ms/step - loss: 0.2575 - acc: 0.7638 - val_loss: 1.5961 - val_acc: 0.6867\n",
            "Epoch 17/25\n",
            "1558/1558 [==============================] - 6s 4ms/step - loss: 0.2745 - acc: 0.7856 - val_loss: 1.6309 - val_acc: 0.6923\n",
            "Epoch 18/25\n",
            "1558/1558 [==============================] - 6s 4ms/step - loss: 0.2834 - acc: 0.7927 - val_loss: 1.8878 - val_acc: 0.6435\n",
            "Epoch 19/25\n",
            "1558/1558 [==============================] - 5s 4ms/step - loss: 0.2747 - acc: 0.7657 - val_loss: 1.8016 - val_acc: 0.6529\n",
            "Epoch 20/25\n",
            "1558/1558 [==============================] - 6s 4ms/step - loss: 0.2805 - acc: 0.7792 - val_loss: 1.5984 - val_acc: 0.6961\n",
            "Epoch 21/25\n",
            "1558/1558 [==============================] - 6s 4ms/step - loss: 0.2926 - acc: 0.8139 - val_loss: 1.2860 - val_acc: 0.7824\n",
            "Epoch 22/25\n",
            "1558/1558 [==============================] - 6s 4ms/step - loss: 0.2947 - acc: 0.7837 - val_loss: 1.7850 - val_acc: 0.6135\n",
            "Epoch 23/25\n",
            "1558/1558 [==============================] - 6s 4ms/step - loss: 0.2810 - acc: 0.7202 - val_loss: 1.6411 - val_acc: 0.6679\n",
            "Epoch 24/25\n",
            "1558/1558 [==============================] - 6s 4ms/step - loss: 0.2792 - acc: 0.7368 - val_loss: 1.8117 - val_acc: 0.6098\n",
            "Epoch 25/25\n",
            "1558/1558 [==============================] - 6s 4ms/step - loss: 0.2861 - acc: 0.7593 - val_loss: 1.7370 - val_acc: 0.6379\n"
          ],
          "name": "stdout"
        }
      ]
    },
    {
      "cell_type": "code",
      "metadata": {
        "id": "4U-jWF4b8-ib",
        "colab_type": "code",
        "colab": {
          "base_uri": "https://localhost:8080/",
          "height": 409
        },
        "outputId": "a67270f8-9f3c-4d7b-dfa9-fa29410b909b"
      },
      "source": [
        "plt.figure(figsize=(12,6))\n",
        "plt.subplot(1,2,1)\n",
        "plt.plot(h1.history['acc'],label='Train',linewidth=3)\n",
        "plt.plot(h1.history['val_acc'],label='Test',linewidth=3)\n",
        "plt.legend()\n",
        "plt.xlabel('Epochs')\n",
        "plt.ylabel('Accuracy')\n",
        "plt.subplot(1,2,2)\n",
        "plt.plot(h1.history['loss'],label='Train',linewidth=3)\n",
        "plt.plot(h1.history['val_loss'],label='Test',linewidth=3)\n",
        "plt.legend()\n",
        "plt.xlabel('Epochs')\n",
        "plt.ylabel('Loss')"
      ],
      "execution_count": 36,
      "outputs": [
        {
          "output_type": "execute_result",
          "data": {
            "text/plain": [
              "Text(0,0.5,'Loss')"
            ]
          },
          "metadata": {
            "tags": []
          },
          "execution_count": 36
        },
        {
          "output_type": "display_data",
          "data": {
            "image/png": "[encoded data removed]",
            "text/plain": [
              "<Figure size 864x432 with 2 Axes>"
            ]
          },
          "metadata": {
            "tags": []
          }
        }
      ]
    },
    {
      "cell_type": "markdown",
      "metadata": {
        "id": "8LfRng_6mHt4",
        "colab_type": "text"
      },
      "source": [
        "* Añadimos una capa Dropout y experimentamos con una funcion de costo mse a pesar que lo optimo  teoricamente es binary_crossentropy"
      ]
    },
    {
      "cell_type": "code",
      "metadata": {
        "id": "6dMQ8zti9ahr",
        "colab_type": "code",
        "colab": {
          "base_uri": "https://localhost:8080/",
          "height": 903
        },
        "outputId": "f49fe372-e3d1-472f-8c79-1861db6e129f"
      },
      "source": [
        "model1 =Sequential()\n",
        "model1.add(Embedding(2000,128,input_length=voc,mask_zero=True))\n",
        "model1.add(LSTM(units=150, input_shape=out.shape,recurrent_dropout=0.2))\n",
        "model1.add(Dropout(0.2))\n",
        "model1.add(Dense(units=1,activation='relu'))\n",
        "model1.compile('adam','mse',metrics=['acc'])\n",
        "h1=model1.fit(Xpad,df['Label'].values,epochs=25, batch_size=32,validation_data=(Xpadt,dftest['Label'].values))"
      ],
      "execution_count": 38,
      "outputs": [
        {
          "output_type": "stream",
          "text": [
            "Train on 1558 samples, validate on 533 samples\n",
            "Epoch 1/25\n",
            "1558/1558 [==============================] - 6s 4ms/step - loss: 0.2298 - acc: 0.6746 - val_loss: 0.1491 - val_acc: 0.7899\n",
            "Epoch 2/25\n",
            "1558/1558 [==============================] - 4s 3ms/step - loss: 0.0943 - acc: 0.8819 - val_loss: 0.1427 - val_acc: 0.8030\n",
            "Epoch 3/25\n",
            "1558/1558 [==============================] - 4s 3ms/step - loss: 0.0627 - acc: 0.9288 - val_loss: 0.1415 - val_acc: 0.8161\n",
            "Epoch 4/25\n",
            "1558/1558 [==============================] - 4s 3ms/step - loss: 0.0490 - acc: 0.9384 - val_loss: 0.1470 - val_acc: 0.8086\n",
            "Epoch 5/25\n",
            "1558/1558 [==============================] - 4s 3ms/step - loss: 0.0407 - acc: 0.9467 - val_loss: 0.1534 - val_acc: 0.8049\n",
            "Epoch 6/25\n",
            "1558/1558 [==============================] - 4s 3ms/step - loss: 0.0371 - acc: 0.9538 - val_loss: 0.1601 - val_acc: 0.7955\n",
            "Epoch 7/25\n",
            "1558/1558 [==============================] - 4s 3ms/step - loss: 0.0357 - acc: 0.9519 - val_loss: 0.1585 - val_acc: 0.8011\n",
            "Epoch 8/25\n",
            "1558/1558 [==============================] - 4s 3ms/step - loss: 0.0346 - acc: 0.9531 - val_loss: 0.1624 - val_acc: 0.7880\n",
            "Epoch 9/25\n",
            "1558/1558 [==============================] - 4s 3ms/step - loss: 0.0351 - acc: 0.9499 - val_loss: 0.1649 - val_acc: 0.7899\n",
            "Epoch 10/25\n",
            "1558/1558 [==============================] - 4s 3ms/step - loss: 0.0327 - acc: 0.9499 - val_loss: 0.1672 - val_acc: 0.7861\n",
            "Epoch 11/25\n",
            "1558/1558 [==============================] - 4s 3ms/step - loss: 0.0312 - acc: 0.9551 - val_loss: 0.1650 - val_acc: 0.7917\n",
            "Epoch 12/25\n",
            "1558/1558 [==============================] - 4s 3ms/step - loss: 0.0320 - acc: 0.9531 - val_loss: 0.1672 - val_acc: 0.7861\n",
            "Epoch 13/25\n",
            "1558/1558 [==============================] - 4s 3ms/step - loss: 0.0309 - acc: 0.9512 - val_loss: 0.1750 - val_acc: 0.7917\n",
            "Epoch 14/25\n",
            "1558/1558 [==============================] - 4s 3ms/step - loss: 0.0296 - acc: 0.9531 - val_loss: 0.1868 - val_acc: 0.7692\n",
            "Epoch 15/25\n",
            "1558/1558 [==============================] - 4s 3ms/step - loss: 0.0318 - acc: 0.9519 - val_loss: 0.1748 - val_acc: 0.7749\n",
            "Epoch 16/25\n",
            "1558/1558 [==============================] - 4s 3ms/step - loss: 0.0297 - acc: 0.9589 - val_loss: 0.1635 - val_acc: 0.7880\n",
            "Epoch 17/25\n",
            "1558/1558 [==============================] - 4s 3ms/step - loss: 0.0301 - acc: 0.9499 - val_loss: 0.1641 - val_acc: 0.7880\n",
            "Epoch 18/25\n",
            "1558/1558 [==============================] - 4s 3ms/step - loss: 0.0284 - acc: 0.9493 - val_loss: 0.1681 - val_acc: 0.7824\n",
            "Epoch 19/25\n",
            "1558/1558 [==============================] - 4s 3ms/step - loss: 0.0293 - acc: 0.9512 - val_loss: 0.1711 - val_acc: 0.7824\n",
            "Epoch 20/25\n",
            "1558/1558 [==============================] - 4s 3ms/step - loss: 0.0307 - acc: 0.9525 - val_loss: 0.1796 - val_acc: 0.7730\n",
            "Epoch 21/25\n",
            "1558/1558 [==============================] - 4s 3ms/step - loss: 0.0296 - acc: 0.9493 - val_loss: 0.1768 - val_acc: 0.7730\n",
            "Epoch 22/25\n",
            "1558/1558 [==============================] - 4s 3ms/step - loss: 0.0289 - acc: 0.9538 - val_loss: 0.1728 - val_acc: 0.7767\n",
            "Epoch 23/25\n",
            "1558/1558 [==============================] - 4s 3ms/step - loss: 0.0289 - acc: 0.9544 - val_loss: 0.1709 - val_acc: 0.7674\n",
            "Epoch 24/25\n",
            "1558/1558 [==============================] - 4s 3ms/step - loss: 0.0290 - acc: 0.9499 - val_loss: 0.1804 - val_acc: 0.7655\n",
            "Epoch 25/25\n",
            "1558/1558 [==============================] - 4s 3ms/step - loss: 0.0292 - acc: 0.9519 - val_loss: 0.1752 - val_acc: 0.7617\n"
          ],
          "name": "stdout"
        }
      ]
    },
    {
      "cell_type": "code",
      "metadata": {
        "id": "V2pxO0zU-sgd",
        "colab_type": "code",
        "colab": {
          "base_uri": "https://localhost:8080/",
          "height": 409
        },
        "outputId": "80b73e6b-fff5-4300-8d7d-ded63be56c47"
      },
      "source": [
        "plt.figure(figsize=(12,6))\n",
        "plt.subplot(1,2,1)\n",
        "plt.plot(h1.history['acc'],label='Train',linewidth=3)\n",
        "plt.plot(h1.history['val_acc'],label='Test',linewidth=3)\n",
        "plt.legend()\n",
        "plt.xlabel('Epochs')\n",
        "plt.ylabel('Accuracy')\n",
        "plt.subplot(1,2,2)\n",
        "plt.plot(h1.history['loss'],label='Train',linewidth=3)\n",
        "plt.plot(h1.history['val_loss'],label='Test',linewidth=3)\n",
        "plt.legend()\n",
        "plt.xlabel('Epochs')\n",
        "plt.ylabel('Loss')"
      ],
      "execution_count": 39,
      "outputs": [
        {
          "output_type": "execute_result",
          "data": {
            "text/plain": [
              "Text(0,0.5,'Loss')"
            ]
          },
          "metadata": {
            "tags": []
          },
          "execution_count": 39
        },
        {
          "output_type": "display_data",
          "data": {
            "image/png": "[encoded data removed]",
            "text/plain": [
              "<Figure size 864x432 with 2 Axes>"
            ]
          },
          "metadata": {
            "tags": []
          }
        }
      ]
    },
    {
      "cell_type": "code",
      "metadata": {
        "id": "GDVy9ohOAOl0",
        "colab_type": "code",
        "colab": {
          "base_uri": "https://localhost:8080/",
          "height": 173
        },
        "outputId": "932b708f-4887-4f06-e215-6d41f87724af"
      },
      "source": [
        "from sklearn.metrics import classification_report\n",
        "y_pred=model1.predict_classes(Xpadt)\n",
        "target_names = ['Causa','Tratamiento']\n",
        "print(classification_report(dftest['Label'].values, y_pred, target_names=target_names))"
      ],
      "execution_count": 40,
      "outputs": [
        {
          "output_type": "stream",
          "text": [
            "              precision    recall  f1-score   support\n",
            "\n",
            "       Causa       0.81      0.74      0.78       297\n",
            " Tratamiento       0.71      0.78      0.74       236\n",
            "\n",
            "   micro avg       0.76      0.76      0.76       533\n",
            "   macro avg       0.76      0.76      0.76       533\n",
            "weighted avg       0.77      0.76      0.76       533\n",
            "\n"
          ],
          "name": "stdout"
        }
      ]
    },
    {
      "cell_type": "markdown",
      "metadata": {
        "id": "YjgChg-Lm5nD",
        "colab_type": "text"
      },
      "source": [
        "*  Presenta una buena clasificacion  para ambas clases, se procedera en la busqueda de hiperparametros que estabilicen el aprendizaje del modelo."
      ]
    },
    {
      "cell_type": "markdown",
      "metadata": {
        "id": "Fg8PobbInRHG",
        "colab_type": "text"
      },
      "source": [
        "* Se ajustael optimizador Adam y se introduce el parametro de *class_weights*  para lidiar con el desbalanceo de clases favoreciendo la clase "
      ]
    },
    {
      "cell_type": "code",
      "metadata": {
        "id": "IGuBLIVxEDQt",
        "colab_type": "code",
        "colab": {
          "base_uri": "https://localhost:8080/",
          "height": 903
        },
        "outputId": "b8ddc715-2c1d-4fbc-db99-56a09db26fb5"
      },
      "source": [
        "opt = Adam(lr=0.0001, decay=1e-5)\n",
        "model1 =Sequential()\n",
        "model1.add(Embedding(2000,128,input_length=voc,mask_zero=True))\n",
        "model1.add(LSTM(units=196, input_shape=out.shape,recurrent_dropout=0.2))\n",
        "model1.add(Dropout(0.2))\n",
        "model1.add(Dense(units=1,activation='relu'))\n",
        "model1.compile(optimizer=opt,loss='mse',metrics=['acc'])\n",
        "h1=model1.fit(Xpad,df['Label'].values,epochs=25, batch_size=32,validation_data=(Xpadt,dftest['Label'].values),class_weight={0:0.75, 1:1})"
      ],
      "execution_count": 41,
      "outputs": [
        {
          "output_type": "stream",
          "text": [
            "Train on 1558 samples, validate on 533 samples\n",
            "Epoch 1/25\n",
            "1558/1558 [==============================] - 7s 5ms/step - loss: 0.3858 - acc: 0.5700 - val_loss: 0.3275 - val_acc: 0.5572\n",
            "Epoch 2/25\n",
            "1558/1558 [==============================] - 6s 4ms/step - loss: 0.2381 - acc: 0.5969 - val_loss: 0.2422 - val_acc: 0.6154\n",
            "Epoch 3/25\n",
            "1558/1558 [==============================] - 6s 4ms/step - loss: 0.1805 - acc: 0.7003 - val_loss: 0.2013 - val_acc: 0.7111\n",
            "Epoch 4/25\n",
            "1558/1558 [==============================] - 6s 4ms/step - loss: 0.1322 - acc: 0.7978 - val_loss: 0.1712 - val_acc: 0.7523\n",
            "Epoch 5/25\n",
            "1558/1558 [==============================] - 6s 4ms/step - loss: 0.1059 - acc: 0.8440 - val_loss: 0.1579 - val_acc: 0.7805\n",
            "Epoch 6/25\n",
            "1558/1558 [==============================] - 6s 4ms/step - loss: 0.0874 - acc: 0.8813 - val_loss: 0.1504 - val_acc: 0.7917\n",
            "Epoch 7/25\n",
            "1558/1558 [==============================] - 6s 4ms/step - loss: 0.0768 - acc: 0.8902 - val_loss: 0.1432 - val_acc: 0.7974\n",
            "Epoch 8/25\n",
            "1558/1558 [==============================] - 6s 4ms/step - loss: 0.0686 - acc: 0.9063 - val_loss: 0.1429 - val_acc: 0.8049\n",
            "Epoch 9/25\n",
            "1558/1558 [==============================] - 6s 4ms/step - loss: 0.0606 - acc: 0.9191 - val_loss: 0.1462 - val_acc: 0.8086\n",
            "Epoch 10/25\n",
            "1558/1558 [==============================] - 6s 4ms/step - loss: 0.0545 - acc: 0.9307 - val_loss: 0.1469 - val_acc: 0.8049\n",
            "Epoch 11/25\n",
            "1558/1558 [==============================] - 6s 4ms/step - loss: 0.0501 - acc: 0.9332 - val_loss: 0.1443 - val_acc: 0.8068\n",
            "Epoch 12/25\n",
            "1558/1558 [==============================] - 6s 4ms/step - loss: 0.0466 - acc: 0.9371 - val_loss: 0.1456 - val_acc: 0.7992\n",
            "Epoch 13/25\n",
            "1558/1558 [==============================] - 6s 4ms/step - loss: 0.0424 - acc: 0.9384 - val_loss: 0.1468 - val_acc: 0.7899\n",
            "Epoch 14/25\n",
            "1558/1558 [==============================] - 6s 4ms/step - loss: 0.0396 - acc: 0.9409 - val_loss: 0.1533 - val_acc: 0.7880\n",
            "Epoch 15/25\n",
            "1558/1558 [==============================] - 6s 4ms/step - loss: 0.0365 - acc: 0.9493 - val_loss: 0.1523 - val_acc: 0.7917\n",
            "Epoch 16/25\n",
            "1558/1558 [==============================] - 6s 4ms/step - loss: 0.0348 - acc: 0.9487 - val_loss: 0.1535 - val_acc: 0.7917\n",
            "Epoch 17/25\n",
            "1558/1558 [==============================] - 6s 4ms/step - loss: 0.0340 - acc: 0.9519 - val_loss: 0.1579 - val_acc: 0.7880\n",
            "Epoch 18/25\n",
            "1558/1558 [==============================] - 6s 4ms/step - loss: 0.0332 - acc: 0.9506 - val_loss: 0.1544 - val_acc: 0.7974\n",
            "Epoch 19/25\n",
            "1558/1558 [==============================] - 6s 4ms/step - loss: 0.0308 - acc: 0.9544 - val_loss: 0.1563 - val_acc: 0.7899\n",
            "Epoch 20/25\n",
            "1558/1558 [==============================] - 6s 4ms/step - loss: 0.0300 - acc: 0.9576 - val_loss: 0.1553 - val_acc: 0.7955\n",
            "Epoch 21/25\n",
            "1558/1558 [==============================] - 6s 4ms/step - loss: 0.0290 - acc: 0.9538 - val_loss: 0.1620 - val_acc: 0.7936\n",
            "Epoch 22/25\n",
            "1558/1558 [==============================] - 6s 4ms/step - loss: 0.0280 - acc: 0.9519 - val_loss: 0.1620 - val_acc: 0.7936\n",
            "Epoch 23/25\n",
            "1558/1558 [==============================] - 6s 4ms/step - loss: 0.0270 - acc: 0.9564 - val_loss: 0.1609 - val_acc: 0.7955\n",
            "Epoch 24/25\n",
            "1558/1558 [==============================] - 6s 4ms/step - loss: 0.0257 - acc: 0.9621 - val_loss: 0.1655 - val_acc: 0.7917\n",
            "Epoch 25/25\n",
            "1558/1558 [==============================] - 6s 4ms/step - loss: 0.0265 - acc: 0.9576 - val_loss: 0.1582 - val_acc: 0.8030\n"
          ],
          "name": "stdout"
        }
      ]
    },
    {
      "cell_type": "code",
      "metadata": {
        "id": "pJKM9ie3GICv",
        "colab_type": "code",
        "colab": {
          "base_uri": "https://localhost:8080/",
          "height": 409
        },
        "outputId": "1a3425fc-06d6-4649-e7e7-f016aee68a94"
      },
      "source": [
        "plt.figure(figsize=(12,6))\n",
        "plt.subplot(1,2,1)\n",
        "plt.plot(h1.history['acc'],label='Train',linewidth=3)\n",
        "plt.plot(h1.history['val_acc'],label='Test',linewidth=3)\n",
        "plt.legend()\n",
        "plt.xlabel('Epochs')\n",
        "plt.ylabel('Accuracy')\n",
        "plt.subplot(1,2,2)\n",
        "plt.plot(h1.history['loss'],label='Train',linewidth=3)\n",
        "plt.plot(h1.history['val_loss'],label='Test',linewidth=3)\n",
        "plt.legend()\n",
        "plt.xlabel('Epochs')\n",
        "plt.ylabel('Loss')"
      ],
      "execution_count": 42,
      "outputs": [
        {
          "output_type": "execute_result",
          "data": {
            "text/plain": [
              "Text(0,0.5,'Loss')"
            ]
          },
          "metadata": {
            "tags": []
          },
          "execution_count": 42
        },
        {
          "output_type": "display_data",
          "data": {
            "image/png": "[encoded data removed]",
            "text/plain": [
              "<Figure size 864x432 with 2 Axes>"
            ]
          },
          "metadata": {
            "tags": []
          }
        }
      ]
    },
    {
      "cell_type": "code",
      "metadata": {
        "id": "tIGW1okqjjnR",
        "colab_type": "code",
        "colab": {
          "base_uri": "https://localhost:8080/",
          "height": 173
        },
        "outputId": "70984f40-ece7-4ea7-97f0-3213db140427"
      },
      "source": [
        "y_pred=model1.predict_classes(Xpadt)\n",
        "target_names = ['Causa','Tratamiento']\n",
        "print(classification_report(dftest['Label'].values, y_pred, target_names=target_names))"
      ],
      "execution_count": 43,
      "outputs": [
        {
          "output_type": "stream",
          "text": [
            "              precision    recall  f1-score   support\n",
            "\n",
            "       Causa       0.82      0.84      0.83       297\n",
            " Tratamiento       0.79      0.76      0.78       236\n",
            "\n",
            "   micro avg       0.80      0.80      0.80       533\n",
            "   macro avg       0.80      0.80      0.80       533\n",
            "weighted avg       0.80      0.80      0.80       533\n",
            "\n"
          ],
          "name": "stdout"
        }
      ]
    },
    {
      "cell_type": "markdown",
      "metadata": {
        "id": "4ALwOKuKonRb",
        "colab_type": "text"
      },
      "source": [
        "* Mejora el desbalance en la precision obtenida por clase y entrega un resultado considerablemente bueno.\n",
        "\n",
        "* Usaremos ahora activacion: sigmoid y loss : binary_crossentropy"
      ]
    },
    {
      "cell_type": "code",
      "metadata": {
        "id": "2N4DIM1OGoD6",
        "colab_type": "code",
        "colab": {
          "base_uri": "https://localhost:8080/",
          "height": 729
        },
        "outputId": "6f2c10fd-9dcf-4b88-dddd-582d3033a149"
      },
      "source": [
        "opt = Adam(lr=0.0001, decay=1e-5)\n",
        "model1 =Sequential()\n",
        "model1.add(Embedding(2000,128,input_length=voc,mask_zero=True))\n",
        "model1.add(LSTM(units=196, input_shape=out.shape,recurrent_dropout=0.2))\n",
        "model1.add(Dropout(0.2))\n",
        "model1.add(Dense(units=1,activation='sigmoid'))\n",
        "model1.compile(optimizer=opt,loss='binary_crossentropy',metrics=['acc'])\n",
        "h1=model1.fit(Xpad,df['Label'].values,epochs=20, batch_size=32,validation_data=(Xpadt,dftest['Label'].values),class_weight={0:0.75, 1:1})"
      ],
      "execution_count": 44,
      "outputs": [
        {
          "output_type": "stream",
          "text": [
            "Train on 1558 samples, validate on 533 samples\n",
            "Epoch 1/20\n",
            "1558/1558 [==============================] - 8s 5ms/step - loss: 0.5930 - acc: 0.6142 - val_loss: 0.6891 - val_acc: 0.7111\n",
            "Epoch 2/20\n",
            "1558/1558 [==============================] - 6s 4ms/step - loss: 0.5860 - acc: 0.7721 - val_loss: 0.6721 - val_acc: 0.7917\n",
            "Epoch 3/20\n",
            "1558/1558 [==============================] - 6s 4ms/step - loss: 0.5050 - acc: 0.8184 - val_loss: 0.5632 - val_acc: 0.8049\n",
            "Epoch 4/20\n",
            "1558/1558 [==============================] - 6s 4ms/step - loss: 0.4111 - acc: 0.8383 - val_loss: 0.5291 - val_acc: 0.8105\n",
            "Epoch 5/20\n",
            "1558/1558 [==============================] - 6s 4ms/step - loss: 0.3529 - acc: 0.8768 - val_loss: 0.5076 - val_acc: 0.8161\n",
            "Epoch 6/20\n",
            "1558/1558 [==============================] - 6s 4ms/step - loss: 0.3077 - acc: 0.8909 - val_loss: 0.4950 - val_acc: 0.8293\n",
            "Epoch 7/20\n",
            "1558/1558 [==============================] - 6s 4ms/step - loss: 0.2696 - acc: 0.9037 - val_loss: 0.5056 - val_acc: 0.8180\n",
            "Epoch 8/20\n",
            "1558/1558 [==============================] - 6s 4ms/step - loss: 0.2398 - acc: 0.9134 - val_loss: 0.5177 - val_acc: 0.8161\n",
            "Epoch 9/20\n",
            "1558/1558 [==============================] - 6s 4ms/step - loss: 0.2247 - acc: 0.9146 - val_loss: 0.5084 - val_acc: 0.8180\n",
            "Epoch 10/20\n",
            "1558/1558 [==============================] - 6s 4ms/step - loss: 0.1994 - acc: 0.9204 - val_loss: 0.5215 - val_acc: 0.8199\n",
            "Epoch 11/20\n",
            "1558/1558 [==============================] - 6s 4ms/step - loss: 0.1867 - acc: 0.9262 - val_loss: 0.5338 - val_acc: 0.8199\n",
            "Epoch 12/20\n",
            "1558/1558 [==============================] - 6s 4ms/step - loss: 0.1752 - acc: 0.9281 - val_loss: 0.5286 - val_acc: 0.8124\n",
            "Epoch 13/20\n",
            "1558/1558 [==============================] - 6s 4ms/step - loss: 0.1677 - acc: 0.9313 - val_loss: 0.5317 - val_acc: 0.8086\n",
            "Epoch 14/20\n",
            "1558/1558 [==============================] - 6s 4ms/step - loss: 0.1589 - acc: 0.9332 - val_loss: 0.5567 - val_acc: 0.8105\n",
            "Epoch 15/20\n",
            "1558/1558 [==============================] - 6s 4ms/step - loss: 0.1510 - acc: 0.9332 - val_loss: 0.5837 - val_acc: 0.8086\n",
            "Epoch 16/20\n",
            "1558/1558 [==============================] - 6s 4ms/step - loss: 0.1447 - acc: 0.9358 - val_loss: 0.5765 - val_acc: 0.8068\n",
            "Epoch 17/20\n",
            "1558/1558 [==============================] - 6s 4ms/step - loss: 0.1437 - acc: 0.9397 - val_loss: 0.6300 - val_acc: 0.8049\n",
            "Epoch 18/20\n",
            "1558/1558 [==============================] - 6s 4ms/step - loss: 0.1378 - acc: 0.9416 - val_loss: 0.5664 - val_acc: 0.8030\n",
            "Epoch 19/20\n",
            "1558/1558 [==============================] - 6s 4ms/step - loss: 0.1435 - acc: 0.9409 - val_loss: 0.6048 - val_acc: 0.8105\n",
            "Epoch 20/20\n",
            "1558/1558 [==============================] - 6s 4ms/step - loss: 0.1226 - acc: 0.9448 - val_loss: 0.5649 - val_acc: 0.8124\n"
          ],
          "name": "stdout"
        }
      ]
    },
    {
      "cell_type": "code",
      "metadata": {
        "id": "YzrFMFV1Vg-h",
        "colab_type": "code",
        "colab": {
          "base_uri": "https://localhost:8080/",
          "height": 409
        },
        "outputId": "44dfb800-d1e5-4df7-de02-4f084cfa757b"
      },
      "source": [
        "plt.figure(figsize=(12,6))\n",
        "plt.subplot(1,2,1)\n",
        "plt.plot(h1.history['acc'],label='Train',linewidth=3)\n",
        "plt.plot(h1.history['val_acc'],label='Test',linewidth=3)\n",
        "plt.legend()\n",
        "plt.xlabel('Epochs')\n",
        "plt.ylabel('Accuracy')\n",
        "plt.subplot(1,2,2)\n",
        "plt.plot(h1.history['loss'],label='Train',linewidth=3)\n",
        "plt.plot(h1.history['val_loss'],label='Test',linewidth=3)\n",
        "plt.legend()\n",
        "plt.xlabel('Epochs')\n",
        "plt.ylabel('Loss')"
      ],
      "execution_count": 45,
      "outputs": [
        {
          "output_type": "execute_result",
          "data": {
            "text/plain": [
              "Text(0,0.5,'Loss')"
            ]
          },
          "metadata": {
            "tags": []
          },
          "execution_count": 45
        },
        {
          "output_type": "display_data",
          "data": {
            "image/png": "[encoded data removed]",
            "text/plain": [
              "<Figure size 864x432 with 2 Axes>"
            ]
          },
          "metadata": {
            "tags": []
          }
        }
      ]
    },
    {
      "cell_type": "code",
      "metadata": {
        "id": "Jb1P2mnIR7HI",
        "colab_type": "code",
        "colab": {
          "base_uri": "https://localhost:8080/",
          "height": 173
        },
        "outputId": "c15fed0f-3633-4b9c-a8a1-dec55dc9d745"
      },
      "source": [
        "y_pred=model1.predict_classes(Xpadt)\n",
        "target_names = ['Causa','Tratamiento']\n",
        "print(classification_report(dftest['Label'].values, y_pred, target_names=target_names))"
      ],
      "execution_count": 46,
      "outputs": [
        {
          "output_type": "stream",
          "text": [
            "              precision    recall  f1-score   support\n",
            "\n",
            "       Causa       0.85      0.80      0.83       297\n",
            " Tratamiento       0.77      0.82      0.80       236\n",
            "\n",
            "   micro avg       0.81      0.81      0.81       533\n",
            "   macro avg       0.81      0.81      0.81       533\n",
            "weighted avg       0.81      0.81      0.81       533\n",
            "\n"
          ],
          "name": "stdout"
        }
      ]
    },
    {
      "cell_type": "markdown",
      "metadata": {
        "id": "N2i8L38Lpu6r",
        "colab_type": "text"
      },
      "source": [
        "* Es un resultado similar el obtenidio con MSE y RELU"
      ]
    },
    {
      "cell_type": "code",
      "metadata": {
        "id": "hqUp6ZBipvd2",
        "colab_type": "code",
        "colab": {}
      },
      "source": [
        ""
      ],
      "execution_count": 0,
      "outputs": []
    }
  ]
}