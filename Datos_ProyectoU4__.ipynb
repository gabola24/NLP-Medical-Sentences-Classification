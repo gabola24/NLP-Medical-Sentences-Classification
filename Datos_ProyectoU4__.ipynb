{
  "nbformat": 4,
  "nbformat_minor": 0,
  "metadata": {
    "colab": {
      "name": "Datos_ProyectoU4 _.ipynb",
      "version": "0.3.2",
      "provenance": [],
      "collapsed_sections": []
    },
    "kernelspec": {
      "name": "python2",
      "display_name": "Python 2"
    }
  },
  "cells": [
    {
      "cell_type": "markdown",
      "metadata": {
        "id": "WE9YXL8wVfAN",
        "colab_type": "text"
      },
      "source": [
        "### Este proyecto consiste en realizar la clasificación de sentencias médicas según su intención, es decir, relacionar si en la sentencia se refieren a un tratamiento (prescripción de medicamentos), o si están asociando una causa con alguna enfermedad.\n",
        "\n",
        "### El dataset implementado consta de tres archivos cvs en los cuales se encuentra información relacionada con la historia clínica de pacientes. En particular tiene una columna 'sentence' en la cual se encuentran sentencias médicas de diferentes longitudes y una columna 'relation' en la cual se expone la intención de la sentencia. Lss diferentes relaciones que se pueden encontrar en la columna relation son 9: 'treats', 'diagnosed by', 'contraindicates', 'causes', 'location', 'is location of', 'location of', 'is diagnosed by', 'diagnose_by_test_or_drug'\n",
        "\n",
        "### Se tiene dentro de los tres cvs (train con 13340, test con 4566, validation con 4270) las sentencias médicas están repetidas\n",
        "\n",
        "### La distribución de las clases o la instención de las sentencias se ilustrará más adelante\n",
        "\n",
        "\n",
        "### Esta tarea de clasificación es muy útil dado que puede servir como herramienta de soporte en  la búsqueda automática de información en tareas que requieren el análisis sistemático de muchos datos como lo es la evaluación de tecnología en salud. Ahorrando tiempo, reduciendo sesgos, entre otros\n"
      ]
    },
    {
      "cell_type": "code",
      "metadata": {
        "id": "jnp7ekdu4XCb",
        "colab_type": "code",
        "colab": {}
      },
      "source": [
        "import collections\n",
        "import numpy as np\n",
        "from keras.preprocessing.text import Tokenizer\n",
        "from keras.preprocessing.sequence import pad_sequences\n",
        "from keras.models import Model, Sequential\n",
        "from keras.layers import GRU, LSTM, Input, Dense, TimeDistributed, Embedding, Activation, RepeatVector, Bidirectional, Concatenate, Dot\n",
        "from keras.layers.embeddings import Embedding\n",
        "from keras.optimizers import Adam\n",
        "from keras.losses import sparse_categorical_crossentropy\n",
        "from keras.preprocessing.text import one_hot\n",
        "from keras.utils import np_utils \n",
        "import pandas as pd"
      ],
      "execution_count": 0,
      "outputs": []
    },
    {
      "cell_type": "markdown",
      "metadata": {
        "id": "zRcR37LZX1qJ",
        "colab_type": "text"
      },
      "source": [
        "# Descarga de DataSet"
      ]
    },
    {
      "cell_type": "code",
      "metadata": {
        "id": "kgvEhYNG7qb-",
        "colab_type": "code",
        "outputId": "389600db-d025-4a9e-f6d9-39dd103b1efb",
        "colab": {
          "base_uri": "https://localhost:8080/",
          "height": 454
        }
      },
      "source": [
        "!wget https://www.dropbox.com/s/j8v4lzef5kzr0se/DataSet.zip?dl=0"
      ],
      "execution_count": 3,
      "outputs": [
        {
          "output_type": "stream",
          "text": [
            "--2019-06-04 00:14:12--  https://www.dropbox.com/s/j8v4lzef5kzr0se/DataSet.zip?dl=0\n",
            "Resolving www.dropbox.com (www.dropbox.com)... 162.125.1.1, 2620:100:601b:1::a27d:801\n",
            "Connecting to www.dropbox.com (www.dropbox.com)|162.125.1.1|:443... connected.\n",
            "HTTP request sent, awaiting response... 301 Moved Permanently\n",
            "Location: /s/raw/j8v4lzef5kzr0se/DataSet.zip [following]\n",
            "--2019-06-04 00:14:12--  https://www.dropbox.com/s/raw/j8v4lzef5kzr0se/DataSet.zip\n",
            "Reusing existing connection to www.dropbox.com:443.\n",
            "HTTP request sent, awaiting response... 302 Found\n",
            "Location: https://uc0022f347aaefccf3747704484c.dl.dropboxusercontent.com/cd/0/inline/AiJpUfkfFnmgoSaOnav4K_Y_T3e6R4qf4YcB9PkF7GUjyUuygmXlef4n87re7quIBoq1NLqfmsF3Xt_S12dZWCZhl1w6cVbNeWEgLQ5olMncbQ/file# [following]\n",
            "--2019-06-04 00:14:12--  https://uc0022f347aaefccf3747704484c.dl.dropboxusercontent.com/cd/0/inline/AiJpUfkfFnmgoSaOnav4K_Y_T3e6R4qf4YcB9PkF7GUjyUuygmXlef4n87re7quIBoq1NLqfmsF3Xt_S12dZWCZhl1w6cVbNeWEgLQ5olMncbQ/file\n",
            "Resolving uc0022f347aaefccf3747704484c.dl.dropboxusercontent.com (uc0022f347aaefccf3747704484c.dl.dropboxusercontent.com)... 162.125.8.6, 2620:100:601b:6::a27d:806\n",
            "Connecting to uc0022f347aaefccf3747704484c.dl.dropboxusercontent.com (uc0022f347aaefccf3747704484c.dl.dropboxusercontent.com)|162.125.8.6|:443... connected.\n",
            "HTTP request sent, awaiting response... 302 FOUND\n",
            "Location: /cd/0/inline2/AiJMIwDHg5t5SmriLCnrKMXggmMhB2uWxQZsGl0fFvB0QkOFcmDLK9cKhiHD_U13kGYyU3W_9BeNBeeIzaaKK9W5wVkdefYVFTf0ijPSy5lqN0WpGUTr1Jl6u7t-8M5oApyE3-QUP8AxcA1mCOm6r_vLXLG87hGFCVg4zzNbd-yl4aQd01zjlpPIIONzdXa7iOvZsEIJPmCLWCiCIe3SBm96749cYDbcfzqjk4SfYBPGmnzSv-_QDOWpGzLwlLz2BqVZqksDMhEEm48X_Nh-d1j6KSGKB7Bc_4PEIzDsESJOxlyUj62GeT6jIDx_82PTjALWhhMmay8vSvSvRlFtHQ6O/file [following]\n",
            "--2019-06-04 00:14:13--  https://uc0022f347aaefccf3747704484c.dl.dropboxusercontent.com/cd/0/inline2/AiJMIwDHg5t5SmriLCnrKMXggmMhB2uWxQZsGl0fFvB0QkOFcmDLK9cKhiHD_U13kGYyU3W_9BeNBeeIzaaKK9W5wVkdefYVFTf0ijPSy5lqN0WpGUTr1Jl6u7t-8M5oApyE3-QUP8AxcA1mCOm6r_vLXLG87hGFCVg4zzNbd-yl4aQd01zjlpPIIONzdXa7iOvZsEIJPmCLWCiCIe3SBm96749cYDbcfzqjk4SfYBPGmnzSv-_QDOWpGzLwlLz2BqVZqksDMhEEm48X_Nh-d1j6KSGKB7Bc_4PEIzDsESJOxlyUj62GeT6jIDx_82PTjALWhhMmay8vSvSvRlFtHQ6O/file\n",
            "Reusing existing connection to uc0022f347aaefccf3747704484c.dl.dropboxusercontent.com:443.\n",
            "HTTP request sent, awaiting response... 200 OK\n",
            "Length: 1103100 (1.1M) [application/zip]\n",
            "Saving to: ‘DataSet.zip?dl=0.4’\n",
            "\n",
            "DataSet.zip?dl=0.4  100%[===================>]   1.05M  4.24MB/s    in 0.2s    \n",
            "\n",
            "2019-06-04 00:14:13 (4.24 MB/s) - ‘DataSet.zip?dl=0.4’ saved [1103100/1103100]\n",
            "\n"
          ],
          "name": "stdout"
        }
      ]
    },
    {
      "cell_type": "code",
      "metadata": {
        "id": "1sqPjdTD7vYd",
        "colab_type": "code",
        "outputId": "fe434eff-9f42-404d-f01f-5ed52221f96a",
        "colab": {
          "base_uri": "https://localhost:8080/",
          "height": 104
        }
      },
      "source": [
        "!unzip DataSet.zip?dl=0"
      ],
      "execution_count": 4,
      "outputs": [
        {
          "output_type": "stream",
          "text": [
            "Archive:  DataSet.zip?dl=0\n",
            "replace DataSet/test.csv? [y]es, [n]o, [A]ll, [N]one, [r]ename: A\n",
            "  inflating: DataSet/test.csv        \n",
            "  inflating: DataSet/train.csv       \n",
            "  inflating: DataSet/validation.csv  \n"
          ],
          "name": "stdout"
        }
      ]
    },
    {
      "cell_type": "code",
      "metadata": {
        "id": "-3RVEJ5O70ZS",
        "colab_type": "code",
        "outputId": "9360a5ad-ec09-4e0d-c899-a37645f1bbe7",
        "colab": {
          "base_uri": "https://localhost:8080/",
          "height": 288
        }
      },
      "source": [
        "train = pd.read_csv('/content/DataSet/train.csv')\n",
        "train.head(2)"
      ],
      "execution_count": 5,
      "outputs": [
        {
          "output_type": "execute_result",
          "data": {
            "text/html": [
              "<div>\n",
              "<style scoped>\n",
              "    .dataframe tbody tr th:only-of-type {\n",
              "        vertical-align: middle;\n",
              "    }\n",
              "\n",
              "    .dataframe tbody tr th {\n",
              "        vertical-align: top;\n",
              "    }\n",
              "\n",
              "    .dataframe thead th {\n",
              "        text-align: right;\n",
              "    }\n",
              "</style>\n",
              "<table border=\"1\" class=\"dataframe\">\n",
              "  <thead>\n",
              "    <tr style=\"text-align: right;\">\n",
              "      <th></th>\n",
              "      <th>_unit_id</th>\n",
              "      <th>_created_at</th>\n",
              "      <th>_canary</th>\n",
              "      <th>_id</th>\n",
              "      <th>_started_at</th>\n",
              "      <th>_channel</th>\n",
              "      <th>_trust</th>\n",
              "      <th>_worker_id</th>\n",
              "      <th>_country</th>\n",
              "      <th>_region</th>\n",
              "      <th>_city</th>\n",
              "      <th>_ip</th>\n",
              "      <th>direction</th>\n",
              "      <th>b1</th>\n",
              "      <th>b2</th>\n",
              "      <th>direction_gold</th>\n",
              "      <th>e1</th>\n",
              "      <th>e2</th>\n",
              "      <th>relation</th>\n",
              "      <th>relex_relcos</th>\n",
              "      <th>sent_id</th>\n",
              "      <th>sentence</th>\n",
              "      <th>term1</th>\n",
              "      <th>term2</th>\n",
              "      <th>twrex</th>\n",
              "    </tr>\n",
              "  </thead>\n",
              "  <tbody>\n",
              "    <tr>\n",
              "      <th>0</th>\n",
              "      <td>502808352</td>\n",
              "      <td>7/13/2014 13:48:35</td>\n",
              "      <td>NaN</td>\n",
              "      <td>1321892767</td>\n",
              "      <td>7/13/2014 13:48:14</td>\n",
              "      <td>clixsense</td>\n",
              "      <td>0.9167</td>\n",
              "      <td>27871219</td>\n",
              "      <td>NLD</td>\n",
              "      <td>07</td>\n",
              "      <td>Amsterdam</td>\n",
              "      <td>87.210.207.223</td>\n",
              "      <td>IM CEFTRIAXONE treats URETHRAL OR RECTAL GONOR...</td>\n",
              "      <td>41</td>\n",
              "      <td>128</td>\n",
              "      <td>NaN</td>\n",
              "      <td>69</td>\n",
              "      <td>142</td>\n",
              "      <td>treats</td>\n",
              "      <td>1.0</td>\n",
              "      <td>907845-FS1-2</td>\n",
              "      <td>For treatment of uncomplicated cervical, URETH...</td>\n",
              "      <td>URETHRAL OR RECTAL GONORRHEA</td>\n",
              "      <td>IM CEFTRIAXONE</td>\n",
              "      <td>RO-may_treat</td>\n",
              "    </tr>\n",
              "    <tr>\n",
              "      <th>1</th>\n",
              "      <td>502808352</td>\n",
              "      <td>7/13/2014 13:51:12</td>\n",
              "      <td>NaN</td>\n",
              "      <td>1321894040</td>\n",
              "      <td>7/13/2014 13:51:07</td>\n",
              "      <td>neodev</td>\n",
              "      <td>0.8333</td>\n",
              "      <td>17610000</td>\n",
              "      <td>GBR</td>\n",
              "      <td>I2</td>\n",
              "      <td>Manchester</td>\n",
              "      <td>90.200.140.201</td>\n",
              "      <td>URETHRAL OR RECTAL GONORRHEA treats IM CEFTRIA...</td>\n",
              "      <td>41</td>\n",
              "      <td>128</td>\n",
              "      <td>NaN</td>\n",
              "      <td>69</td>\n",
              "      <td>142</td>\n",
              "      <td>treats</td>\n",
              "      <td>1.0</td>\n",
              "      <td>907845-FS1-2</td>\n",
              "      <td>For treatment of uncomplicated cervical, URETH...</td>\n",
              "      <td>URETHRAL OR RECTAL GONORRHEA</td>\n",
              "      <td>IM CEFTRIAXONE</td>\n",
              "      <td>RO-may_treat</td>\n",
              "    </tr>\n",
              "  </tbody>\n",
              "</table>\n",
              "</div>"
            ],
            "text/plain": [
              "    _unit_id         _created_at  ...           term2         twrex\n",
              "0  502808352  7/13/2014 13:48:35  ...  IM CEFTRIAXONE  RO-may_treat\n",
              "1  502808352  7/13/2014 13:51:12  ...  IM CEFTRIAXONE  RO-may_treat\n",
              "\n",
              "[2 rows x 25 columns]"
            ]
          },
          "metadata": {
            "tags": []
          },
          "execution_count": 5
        }
      ]
    },
    {
      "cell_type": "code",
      "metadata": {
        "id": "j1WRjvRN5hrY",
        "colab_type": "code",
        "colab": {}
      },
      "source": [
        "test = pd.read_csv('/content/DataSet/test.csv')"
      ],
      "execution_count": 0,
      "outputs": []
    },
    {
      "cell_type": "code",
      "metadata": {
        "id": "0gHUhFXf1d5H",
        "colab_type": "code",
        "colab": {}
      },
      "source": [
        "val = pd.read_csv('/content/DataSet/validation.csv')"
      ],
      "execution_count": 0,
      "outputs": []
    },
    {
      "cell_type": "markdown",
      "metadata": {
        "id": "DoViLM9I1K-f",
        "colab_type": "text"
      },
      "source": [
        "# SEPARAR DATASET EN RELACIÓN A CAUSAS Y TRATAMIENTOS"
      ]
    },
    {
      "cell_type": "code",
      "metadata": {
        "id": "rrHGHRYgs7F2",
        "colab_type": "code",
        "outputId": "091b7d57-65dc-478b-d723-0423645f9eeb",
        "colab": {
          "base_uri": "https://localhost:8080/",
          "height": 86
        }
      },
      "source": [
        "x_train = train['sentence'].as_matrix()\n",
        "y_train = train['relation'].as_matrix()"
      ],
      "execution_count": 8,
      "outputs": [
        {
          "output_type": "stream",
          "text": [
            "/usr/local/lib/python2.7/dist-packages/ipykernel_launcher.py:1: FutureWarning: Method .as_matrix will be removed in a future version. Use .values instead.\n",
            "  \"\"\"Entry point for launching an IPython kernel.\n",
            "/usr/local/lib/python2.7/dist-packages/ipykernel_launcher.py:2: FutureWarning: Method .as_matrix will be removed in a future version. Use .values instead.\n",
            "  \n"
          ],
          "name": "stderr"
        }
      ]
    },
    {
      "cell_type": "code",
      "metadata": {
        "id": "r6XljmxYwJS0",
        "colab_type": "code",
        "outputId": "212af157-6c5f-4526-c2a5-368fbf5e6129",
        "colab": {
          "base_uri": "https://localhost:8080/",
          "height": 86
        }
      },
      "source": [
        "x_val = val['sentence'].as_matrix()\n",
        "y_val = val['relation'].as_matrix()"
      ],
      "execution_count": 9,
      "outputs": [
        {
          "output_type": "stream",
          "text": [
            "/usr/local/lib/python2.7/dist-packages/ipykernel_launcher.py:1: FutureWarning: Method .as_matrix will be removed in a future version. Use .values instead.\n",
            "  \"\"\"Entry point for launching an IPython kernel.\n",
            "/usr/local/lib/python2.7/dist-packages/ipykernel_launcher.py:2: FutureWarning: Method .as_matrix will be removed in a future version. Use .values instead.\n",
            "  \n"
          ],
          "name": "stderr"
        }
      ]
    },
    {
      "cell_type": "code",
      "metadata": {
        "id": "nmxB04YFwP9D",
        "colab_type": "code",
        "outputId": "b21365ac-14ee-439c-8c41-f9ccea6d95d5",
        "colab": {
          "base_uri": "https://localhost:8080/",
          "height": 34
        }
      },
      "source": [
        "y_val.shape"
      ],
      "execution_count": 10,
      "outputs": [
        {
          "output_type": "execute_result",
          "data": {
            "text/plain": [
              "(4270,)"
            ]
          },
          "metadata": {
            "tags": []
          },
          "execution_count": 10
        }
      ]
    },
    {
      "cell_type": "code",
      "metadata": {
        "id": "qwCwIt_uZLk9",
        "colab_type": "code",
        "outputId": "d093b0a7-d3d3-4cd7-c06f-7e7137758154",
        "colab": {
          "base_uri": "https://localhost:8080/",
          "height": 86
        }
      },
      "source": [
        "x_test = test['sentence'].as_matrix()\n",
        "y_test = test['relation'].as_matrix()"
      ],
      "execution_count": 11,
      "outputs": [
        {
          "output_type": "stream",
          "text": [
            "/usr/local/lib/python2.7/dist-packages/ipykernel_launcher.py:1: FutureWarning: Method .as_matrix will be removed in a future version. Use .values instead.\n",
            "  \"\"\"Entry point for launching an IPython kernel.\n",
            "/usr/local/lib/python2.7/dist-packages/ipykernel_launcher.py:2: FutureWarning: Method .as_matrix will be removed in a future version. Use .values instead.\n",
            "  \n"
          ],
          "name": "stderr"
        }
      ]
    },
    {
      "cell_type": "code",
      "metadata": {
        "id": "fSLDnidjZ9gw",
        "colab_type": "code",
        "colab": {}
      },
      "source": [
        "import matplotlib.pyplot as plt"
      ],
      "execution_count": 0,
      "outputs": []
    },
    {
      "cell_type": "code",
      "metadata": {
        "id": "LQkLZKi7BOcQ",
        "colab_type": "code",
        "colab": {}
      },
      "source": [
        "treatTest = []\n",
        "causeTest = []\n",
        "relationTest = []\n",
        "sentenceTest = []\n",
        "for i in range(4566):\n",
        "  if y_test[i] == 'treats':\n",
        "    treatTest.append(x_test[i])\n",
        "    relationTest.append(y_test[i])\n",
        "    sentenceTest.append(x_test[i])\n",
        "  if y_test[i] == 'causes':\n",
        "    causeTest.append(x_test[i])\n",
        "    relationTest.append(y_test[i])\n",
        "    sentenceTest.append(x_test[i])"
      ],
      "execution_count": 0,
      "outputs": []
    },
    {
      "cell_type": "code",
      "metadata": {
        "id": "6hYMElUkCLzy",
        "colab_type": "code",
        "colab": {}
      },
      "source": [
        "relationTest = pd.DataFrame(relationTest)"
      ],
      "execution_count": 0,
      "outputs": []
    },
    {
      "cell_type": "code",
      "metadata": {
        "id": "Sv3yW_EUfCPK",
        "colab_type": "code",
        "outputId": "ebba36d6-9912-4718-92af-15c819180996",
        "colab": {
          "base_uri": "https://localhost:8080/",
          "height": 206
        }
      },
      "source": [
        "relationTest.head(5)"
      ],
      "execution_count": 15,
      "outputs": [
        {
          "output_type": "execute_result",
          "data": {
            "text/html": [
              "<div>\n",
              "<style scoped>\n",
              "    .dataframe tbody tr th:only-of-type {\n",
              "        vertical-align: middle;\n",
              "    }\n",
              "\n",
              "    .dataframe tbody tr th {\n",
              "        vertical-align: top;\n",
              "    }\n",
              "\n",
              "    .dataframe thead th {\n",
              "        text-align: right;\n",
              "    }\n",
              "</style>\n",
              "<table border=\"1\" class=\"dataframe\">\n",
              "  <thead>\n",
              "    <tr style=\"text-align: right;\">\n",
              "      <th></th>\n",
              "      <th>0</th>\n",
              "    </tr>\n",
              "  </thead>\n",
              "  <tbody>\n",
              "    <tr>\n",
              "      <th>0</th>\n",
              "      <td>causes</td>\n",
              "    </tr>\n",
              "    <tr>\n",
              "      <th>1</th>\n",
              "      <td>causes</td>\n",
              "    </tr>\n",
              "    <tr>\n",
              "      <th>2</th>\n",
              "      <td>causes</td>\n",
              "    </tr>\n",
              "    <tr>\n",
              "      <th>3</th>\n",
              "      <td>causes</td>\n",
              "    </tr>\n",
              "    <tr>\n",
              "      <th>4</th>\n",
              "      <td>causes</td>\n",
              "    </tr>\n",
              "  </tbody>\n",
              "</table>\n",
              "</div>"
            ],
            "text/plain": [
              "        0\n",
              "0  causes\n",
              "1  causes\n",
              "2  causes\n",
              "3  causes\n",
              "4  causes"
            ]
          },
          "metadata": {
            "tags": []
          },
          "execution_count": 15
        }
      ]
    },
    {
      "cell_type": "code",
      "metadata": {
        "id": "Bz93Jn9Qav1y",
        "colab_type": "code",
        "outputId": "9a5ea190-2bd1-4c42-b256-660e627a592e",
        "colab": {
          "base_uri": "https://localhost:8080/",
          "height": 286
        }
      },
      "source": [
        "plt.bar(['causes','treats',],relationTest[0].value_counts())"
      ],
      "execution_count": 21,
      "outputs": [
        {
          "output_type": "execute_result",
          "data": {
            "text/plain": [
              "<BarContainer object of 2 artists>"
            ]
          },
          "metadata": {
            "tags": []
          },
          "execution_count": 21
        },
        {
          "output_type": "display_data",
          "data": {
            "image/png": "[encoded data removed]",
            "text/plain": [
              "<Figure size 432x288 with 1 Axes>"
            ]
          },
          "metadata": {
            "tags": []
          }
        }
      ]
    },
    {
      "cell_type": "code",
      "metadata": {
        "id": "4cxi0xkPuzUP",
        "colab_type": "code",
        "outputId": "b4efac16-6a6b-4054-81dd-a6de7b7f1d1f",
        "colab": {
          "base_uri": "https://localhost:8080/",
          "height": 34
        }
      },
      "source": [
        "x_train.shape"
      ],
      "execution_count": 17,
      "outputs": [
        {
          "output_type": "execute_result",
          "data": {
            "text/plain": [
              "(13340,)"
            ]
          },
          "metadata": {
            "tags": []
          },
          "execution_count": 17
        }
      ]
    },
    {
      "cell_type": "code",
      "metadata": {
        "id": "_u0potTOu0wA",
        "colab_type": "code",
        "colab": {}
      },
      "source": [
        "treatData = []\n",
        "causeData = []\n",
        "relation = []\n",
        "sentence = []\n",
        "for i in range(13340):\n",
        "  if y_train[i] == 'treats':\n",
        "    treatData.append(x_train[i])\n",
        "    relation.append(y_train[i])\n",
        "    sentence.append(x_train[i])\n",
        "  if y_train[i] == 'causes':\n",
        "    causeData.append(x_train[i])\n",
        "    relation.append(y_train[i])\n",
        "    sentence.append(x_train[i])"
      ],
      "execution_count": 0,
      "outputs": []
    },
    {
      "cell_type": "code",
      "metadata": {
        "id": "_GYa5L0ke16U",
        "colab_type": "code",
        "outputId": "bd0f0293-94a5-4707-f8d0-cface1e94668",
        "colab": {
          "base_uri": "https://localhost:8080/",
          "height": 286
        }
      },
      "source": [
        "relation = pd.DataFrame(relation)\n",
        "plt.bar(['causes','treats'],relation[0].value_counts())\n"
      ],
      "execution_count": 20,
      "outputs": [
        {
          "output_type": "execute_result",
          "data": {
            "text/plain": [
              "<BarContainer object of 2 artists>"
            ]
          },
          "metadata": {
            "tags": []
          },
          "execution_count": 20
        },
        {
          "output_type": "display_data",
          "data": {
            "image/png": "[encoded data removed]",
            "text/plain": [
              "<Figure size 432x288 with 1 Axes>"
            ]
          },
          "metadata": {
            "tags": []
          }
        }
      ]
    },
    {
      "cell_type": "markdown",
      "metadata": {
        "id": "3uAw7Zn9gPYH",
        "colab_type": "text"
      },
      "source": [
        "### De los gráficos de barras anteriores se puede observar un desbalance entre las clases 'treats' y 'causes' seleccionadas.\n",
        "\n",
        "### Se seleccionaron estas dos porque se puede observar que abarcan más del 90% de las clases, por lo cual no hay una buena cantidad de datos para entrenar el modelo con las de más clases, que entre 7 se reparten el 10% restante de información\n",
        "\n",
        "### Hay oraciones repetidas por lo tanto escojeremos solo las unicas."
      ]
    },
    {
      "cell_type": "code",
      "metadata": {
        "id": "GoEZUqBH14b4",
        "colab_type": "code",
        "colab": {}
      },
      "source": [
        ""
      ],
      "execution_count": 0,
      "outputs": []
    }
  ]
}